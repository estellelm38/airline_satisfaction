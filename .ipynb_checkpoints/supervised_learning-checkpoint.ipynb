{
 "cells": [
  {
   "cell_type": "markdown",
   "id": "0cf51ae3",
   "metadata": {},
   "source": [
    "# Dependencies"
   ]
  },
  {
   "cell_type": "code",
   "execution_count": null,
   "id": "fa9a04ba",
   "metadata": {
    "scrolled": true
   },
   "outputs": [],
   "source": [
    "!pip install numpy==1.22.4\n",
    "!pip install matplotlib==3.7.1\n",
    "!pip install mglearn==0.2.0\n",
    "!pip install pandas==2.0.3\n",
    "!pip install scikit-learn==1.3.2\n",
    "!pip install seaborn==0.13.1"
   ]
  },
  {
   "cell_type": "code",
   "execution_count": 1,
   "id": "72ac2e01",
   "metadata": {},
   "outputs": [],
   "source": [
    "import math\n",
    "import pandas as pd\n",
    "import numpy as np\n",
    "import matplotlib.pyplot as plt\n",
    "import pandas as pd\n",
    "import mglearn\n",
    "from IPython.display import display\n",
    "import seaborn as sns\n",
    "from sklearn import datasets\n",
    "from sklearn.cluster import KMeans\n",
    "\n",
    "from sklearn.neighbors import KNeighborsClassifier\n",
    "from sklearn.metrics import accuracy_score\n",
    "from sklearn.dummy import DummyClassifier\n",
    "from sklearn.metrics import recall_score, precision_score\n",
    "from sklearn.model_selection import train_test_split"
   ]
  },
  {
   "cell_type": "code",
   "execution_count": 37,
   "id": "2a83a300",
   "metadata": {},
   "outputs": [],
   "source": [
    "df=pd.read_csv(\"airline_satisfaction_final.csv\", index_col = 0,\n",
    "              nrows = 1000\n",
    "              )"
   ]
  },
  {
   "cell_type": "code",
   "execution_count": 38,
   "id": "fc5c9c68",
   "metadata": {
    "scrolled": true
   },
   "outputs": [
    {
     "data": {
      "text/html": [
       "<div>\n",
       "<style scoped>\n",
       "    .dataframe tbody tr th:only-of-type {\n",
       "        vertical-align: middle;\n",
       "    }\n",
       "\n",
       "    .dataframe tbody tr th {\n",
       "        vertical-align: top;\n",
       "    }\n",
       "\n",
       "    .dataframe thead th {\n",
       "        text-align: right;\n",
       "    }\n",
       "</style>\n",
       "<table border=\"1\" class=\"dataframe\">\n",
       "  <thead>\n",
       "    <tr style=\"text-align: right;\">\n",
       "      <th></th>\n",
       "      <th>Age</th>\n",
       "      <th>Flight Distance</th>\n",
       "      <th>Departure Delay in Minutes</th>\n",
       "      <th>Gender_Male</th>\n",
       "      <th>Customer Type_Loyal Customer</th>\n",
       "      <th>Type of Travel_Business travel</th>\n",
       "      <th>Class_Business</th>\n",
       "      <th>Class_Eco Plus</th>\n",
       "      <th>satisfaction_satisfied</th>\n",
       "      <th>Inflight wifi service</th>\n",
       "      <th>...</th>\n",
       "      <th>Food and drink</th>\n",
       "      <th>Online boarding</th>\n",
       "      <th>Seat comfort</th>\n",
       "      <th>Inflight entertainment</th>\n",
       "      <th>On-board service</th>\n",
       "      <th>Leg room service</th>\n",
       "      <th>Baggage handling</th>\n",
       "      <th>Checkin service</th>\n",
       "      <th>Inflight service</th>\n",
       "      <th>Cleanliness</th>\n",
       "    </tr>\n",
       "  </thead>\n",
       "  <tbody>\n",
       "    <tr>\n",
       "      <th>0</th>\n",
       "      <td>0.076923</td>\n",
       "      <td>0.086632</td>\n",
       "      <td>0.015704</td>\n",
       "      <td>1.0</td>\n",
       "      <td>1.0</td>\n",
       "      <td>0.0</td>\n",
       "      <td>0.0</td>\n",
       "      <td>1.0</td>\n",
       "      <td>0.0</td>\n",
       "      <td>0.6</td>\n",
       "      <td>...</td>\n",
       "      <td>1.0</td>\n",
       "      <td>0.6</td>\n",
       "      <td>1.0</td>\n",
       "      <td>1.0</td>\n",
       "      <td>0.8</td>\n",
       "      <td>0.6</td>\n",
       "      <td>0.75</td>\n",
       "      <td>0.8</td>\n",
       "      <td>1.0</td>\n",
       "      <td>1.0</td>\n",
       "    </tr>\n",
       "    <tr>\n",
       "      <th>1</th>\n",
       "      <td>0.230769</td>\n",
       "      <td>0.041195</td>\n",
       "      <td>0.000628</td>\n",
       "      <td>1.0</td>\n",
       "      <td>0.0</td>\n",
       "      <td>1.0</td>\n",
       "      <td>1.0</td>\n",
       "      <td>0.0</td>\n",
       "      <td>0.0</td>\n",
       "      <td>0.6</td>\n",
       "      <td>...</td>\n",
       "      <td>0.2</td>\n",
       "      <td>0.6</td>\n",
       "      <td>0.2</td>\n",
       "      <td>0.2</td>\n",
       "      <td>0.2</td>\n",
       "      <td>1.0</td>\n",
       "      <td>0.50</td>\n",
       "      <td>0.2</td>\n",
       "      <td>0.8</td>\n",
       "      <td>0.2</td>\n",
       "    </tr>\n",
       "    <tr>\n",
       "      <th>2</th>\n",
       "      <td>0.243590</td>\n",
       "      <td>0.224354</td>\n",
       "      <td>0.000000</td>\n",
       "      <td>0.0</td>\n",
       "      <td>1.0</td>\n",
       "      <td>1.0</td>\n",
       "      <td>1.0</td>\n",
       "      <td>0.0</td>\n",
       "      <td>1.0</td>\n",
       "      <td>0.4</td>\n",
       "      <td>...</td>\n",
       "      <td>1.0</td>\n",
       "      <td>1.0</td>\n",
       "      <td>1.0</td>\n",
       "      <td>1.0</td>\n",
       "      <td>0.8</td>\n",
       "      <td>0.6</td>\n",
       "      <td>0.75</td>\n",
       "      <td>0.8</td>\n",
       "      <td>0.8</td>\n",
       "      <td>1.0</td>\n",
       "    </tr>\n",
       "    <tr>\n",
       "      <th>3</th>\n",
       "      <td>0.230769</td>\n",
       "      <td>0.107229</td>\n",
       "      <td>0.006910</td>\n",
       "      <td>0.0</td>\n",
       "      <td>1.0</td>\n",
       "      <td>1.0</td>\n",
       "      <td>1.0</td>\n",
       "      <td>0.0</td>\n",
       "      <td>0.0</td>\n",
       "      <td>0.4</td>\n",
       "      <td>...</td>\n",
       "      <td>0.4</td>\n",
       "      <td>0.4</td>\n",
       "      <td>0.4</td>\n",
       "      <td>0.4</td>\n",
       "      <td>0.4</td>\n",
       "      <td>1.0</td>\n",
       "      <td>0.50</td>\n",
       "      <td>0.2</td>\n",
       "      <td>0.8</td>\n",
       "      <td>0.4</td>\n",
       "    </tr>\n",
       "    <tr>\n",
       "      <th>4</th>\n",
       "      <td>0.692308</td>\n",
       "      <td>0.036955</td>\n",
       "      <td>0.000000</td>\n",
       "      <td>1.0</td>\n",
       "      <td>1.0</td>\n",
       "      <td>1.0</td>\n",
       "      <td>1.0</td>\n",
       "      <td>0.0</td>\n",
       "      <td>1.0</td>\n",
       "      <td>0.6</td>\n",
       "      <td>...</td>\n",
       "      <td>0.8</td>\n",
       "      <td>1.0</td>\n",
       "      <td>1.0</td>\n",
       "      <td>0.6</td>\n",
       "      <td>0.6</td>\n",
       "      <td>0.8</td>\n",
       "      <td>0.75</td>\n",
       "      <td>0.6</td>\n",
       "      <td>0.6</td>\n",
       "      <td>0.6</td>\n",
       "    </tr>\n",
       "  </tbody>\n",
       "</table>\n",
       "<p>5 rows × 23 columns</p>\n",
       "</div>"
      ],
      "text/plain": [
       "        Age  Flight Distance  Departure Delay in Minutes  Gender_Male  \\\n",
       "0  0.076923         0.086632                    0.015704          1.0   \n",
       "1  0.230769         0.041195                    0.000628          1.0   \n",
       "2  0.243590         0.224354                    0.000000          0.0   \n",
       "3  0.230769         0.107229                    0.006910          0.0   \n",
       "4  0.692308         0.036955                    0.000000          1.0   \n",
       "\n",
       "   Customer Type_Loyal Customer  Type of Travel_Business travel  \\\n",
       "0                           1.0                             0.0   \n",
       "1                           0.0                             1.0   \n",
       "2                           1.0                             1.0   \n",
       "3                           1.0                             1.0   \n",
       "4                           1.0                             1.0   \n",
       "\n",
       "   Class_Business  Class_Eco Plus  satisfaction_satisfied  \\\n",
       "0             0.0             1.0                     0.0   \n",
       "1             1.0             0.0                     0.0   \n",
       "2             1.0             0.0                     1.0   \n",
       "3             1.0             0.0                     0.0   \n",
       "4             1.0             0.0                     1.0   \n",
       "\n",
       "   Inflight wifi service  ...  Food and drink  Online boarding  Seat comfort  \\\n",
       "0                    0.6  ...             1.0              0.6           1.0   \n",
       "1                    0.6  ...             0.2              0.6           0.2   \n",
       "2                    0.4  ...             1.0              1.0           1.0   \n",
       "3                    0.4  ...             0.4              0.4           0.4   \n",
       "4                    0.6  ...             0.8              1.0           1.0   \n",
       "\n",
       "   Inflight entertainment  On-board service  Leg room service  \\\n",
       "0                     1.0               0.8               0.6   \n",
       "1                     0.2               0.2               1.0   \n",
       "2                     1.0               0.8               0.6   \n",
       "3                     0.4               0.4               1.0   \n",
       "4                     0.6               0.6               0.8   \n",
       "\n",
       "   Baggage handling  Checkin service  Inflight service  Cleanliness  \n",
       "0              0.75              0.8               1.0          1.0  \n",
       "1              0.50              0.2               0.8          0.2  \n",
       "2              0.75              0.8               0.8          1.0  \n",
       "3              0.50              0.2               0.8          0.4  \n",
       "4              0.75              0.6               0.6          0.6  \n",
       "\n",
       "[5 rows x 23 columns]"
      ]
     },
     "execution_count": 38,
     "metadata": {},
     "output_type": "execute_result"
    }
   ],
   "source": [
    "df.head()"
   ]
  },
  {
   "cell_type": "code",
   "execution_count": 39,
   "id": "f8beb260",
   "metadata": {},
   "outputs": [
    {
     "data": {
      "text/plain": [
       "(1000, 23)"
      ]
     },
     "execution_count": 39,
     "metadata": {},
     "output_type": "execute_result"
    }
   ],
   "source": [
    "df.shape"
   ]
  },
  {
   "cell_type": "code",
   "execution_count": 40,
   "id": "98d258ef",
   "metadata": {},
   "outputs": [
    {
     "data": {
      "text/plain": [
       "Index(['Age', 'Flight Distance', 'Departure Delay in Minutes', 'Gender_Male',\n",
       "       'Customer Type_Loyal Customer', 'Type of Travel_Business travel',\n",
       "       'Class_Business', 'Class_Eco Plus', 'satisfaction_satisfied',\n",
       "       'Inflight wifi service', 'Departure/Arrival time convenient',\n",
       "       'Ease of Online booking', 'Gate location', 'Food and drink',\n",
       "       'Online boarding', 'Seat comfort', 'Inflight entertainment',\n",
       "       'On-board service', 'Leg room service', 'Baggage handling',\n",
       "       'Checkin service', 'Inflight service', 'Cleanliness'],\n",
       "      dtype='object')"
      ]
     },
     "execution_count": 40,
     "metadata": {},
     "output_type": "execute_result"
    }
   ],
   "source": [
    "df.columns"
   ]
  },
  {
   "cell_type": "code",
   "execution_count": 41,
   "id": "3d45c7b9",
   "metadata": {},
   "outputs": [],
   "source": [
    "y = df.satisfaction_satisfied.values\n",
    "\n",
    "X = df[['Age', 'Flight Distance', 'Departure Delay in Minutes', 'Gender_Male',\n",
    "       'Customer Type_Loyal Customer', 'Type of Travel_Business travel',\n",
    "       'Class_Business', 'Class_Eco Plus',\n",
    "       'Inflight wifi service', 'Departure/Arrival time convenient',\n",
    "       'Ease of Online booking', 'Gate location', 'Food and drink',\n",
    "       'Online boarding', 'Seat comfort', 'Inflight entertainment',\n",
    "       'On-board service', 'Leg room service', 'Baggage handling',\n",
    "       'Checkin service', 'Inflight service', 'Cleanliness']]"
   ]
  },
  {
   "cell_type": "markdown",
   "id": "177697df",
   "metadata": {},
   "source": [
    "# Train / Test Split"
   ]
  },
  {
   "cell_type": "code",
   "execution_count": 42,
   "id": "3933ec11",
   "metadata": {},
   "outputs": [],
   "source": [
    "dummy_classifier = DummyClassifier(strategy=\"constant\", constant=0)"
   ]
  },
  {
   "cell_type": "code",
   "execution_count": 43,
   "id": "54969b49",
   "metadata": {},
   "outputs": [],
   "source": [
    "X_train, X_test, y_train, y_test = train_test_split(X, y, test_size=0.3, stratify=y)"
   ]
  },
  {
   "cell_type": "markdown",
   "id": "3edf86a9",
   "metadata": {},
   "source": [
    "# KNN"
   ]
  },
  {
   "cell_type": "markdown",
   "id": "fede13fe",
   "metadata": {},
   "source": [
    "Une approche courante consiste à tester différentes valeurs de k, par exemple de 1 à √n où n est le nombre d'observations dans l'ensemble de données\n",
    "\n",
    "√129880 = 360"
   ]
  },
  {
   "cell_type": "code",
   "execution_count": 44,
   "id": "f9273612",
   "metadata": {
    "scrolled": true
   },
   "outputs": [
    {
     "name": "stdout",
     "output_type": "stream",
     "text": [
      "k=1\n",
      "Accuracy: 0.8466666666666667\n",
      "k=2\n",
      "Accuracy: 0.8766666666666667\n",
      "k=3\n",
      "Accuracy: 0.8766666666666667\n",
      "k=4\n",
      "Accuracy: 0.89\n",
      "k=5\n",
      "Accuracy: 0.89\n",
      "k=6\n",
      "Accuracy: 0.8866666666666667\n",
      "k=7\n",
      "Accuracy: 0.8633333333333333\n",
      "k=8\n",
      "Accuracy: 0.8733333333333333\n",
      "k=9\n",
      "Accuracy: 0.8766666666666667\n",
      "k=10\n",
      "Accuracy: 0.88\n",
      "k=11\n",
      "Accuracy: 0.8866666666666667\n",
      "k=12\n",
      "Accuracy: 0.8833333333333333\n",
      "k=13\n",
      "Accuracy: 0.88\n",
      "k=14\n",
      "Accuracy: 0.88\n",
      "k=15\n",
      "Accuracy: 0.8766666666666667\n",
      "k=16\n",
      "Accuracy: 0.8766666666666667\n",
      "k=17\n",
      "Accuracy: 0.87\n",
      "k=18\n",
      "Accuracy: 0.87\n",
      "k=19\n",
      "Accuracy: 0.87\n",
      "Meilleur k avec la meilleure accuracy: k=4, accuracy=0.89\n"
     ]
    }
   ],
   "source": [
    "split_accuracy = []\n",
    "split_precision = []\n",
    "best_accuracy = 0\n",
    "best_k = 0\n",
    "\n",
    "for i in range(1, 20, 1):\n",
    "    \n",
    "    knn = KNeighborsClassifier(n_neighbors=i, p=2)\n",
    "    knn.fit(X_train, y_train)\n",
    "    print(f\"k={i}\")\n",
    "    prediction = knn.predict(X_test)\n",
    "    accuracy = accuracy_score(y_test, prediction)\n",
    "    print(f\"Accuracy: {accuracy_score(y_test, prediction)}\")\n",
    "    split_accuracy.append(accuracy_score(y_test, prediction))\n",
    "    split_precision.append(precision_score(y_test, prediction))\n",
    "    \n",
    "    if accuracy > best_accuracy:\n",
    "        best_accuracy = accuracy\n",
    "        best_k = i\n",
    "\n",
    "print(f\"Meilleur k avec la meilleure accuracy: k={best_k}, accuracy={best_accuracy}\")"
   ]
  },
  {
   "cell_type": "code",
   "execution_count": 45,
   "id": "9abb6dfb",
   "metadata": {},
   "outputs": [
    {
     "data": {
      "text/plain": [
       "<matplotlib.legend.Legend at 0x7fd1c84f3d90>"
      ]
     },
     "execution_count": 45,
     "metadata": {},
     "output_type": "execute_result"
    },
    {
     "data": {
      "image/png": "[encoded data removed]",
      "text/plain": [
       "<Figure size 640x480 with 1 Axes>"
      ]
     },
     "metadata": {},
     "output_type": "display_data"
    }
   ],
   "source": [
    "plt.plot(split_accuracy, label=\"Accuracy\")\n",
    "plt.plot(split_precision, label=\"Precision\")\n",
    "plt.legend()"
   ]
  },
  {
   "cell_type": "markdown",
   "id": "872a8d1b",
   "metadata": {},
   "source": [
    "Cross Validation"
   ]
  },
  {
   "cell_type": "code",
   "execution_count": null,
   "id": "1711446d",
   "metadata": {},
   "outputs": [],
   "source": [
    "from sklearn.model_selection import cross_val_score"
   ]
  },
  {
   "cell_type": "code",
   "execution_count": null,
   "id": "22f3d57b",
   "metadata": {
    "scrolled": true
   },
   "outputs": [],
   "source": [
    "cross_val_accuracy = cross_val_score(estimator=dummy_classifier, X=X, y=y, scoring=\"accuracy\")\n",
    "cross_val_precision = cross_val_score(estimator=dummy_classifier, X=X, y=y, scoring=\"precision\")"
   ]
  },
  {
   "cell_type": "code",
   "execution_count": null,
   "id": "df04cc80",
   "metadata": {},
   "outputs": [],
   "source": [
    "print(\"========================================\")\n",
    "print(f\"=== Average accuracy: {np.mean(cross_val_accuracy)}\")\n",
    "print(f\"=== Median accuracy: {np.median(cross_val_accuracy)}\")\n",
    "print(\"========================================\")\n",
    "print(\"========================================\")\n",
    "\n",
    "print(f\"=== Average precision: {np.mean(cross_val_precision)}\")\n",
    "print(f\"=== Median precision: {np.median(cross_val_precision)}\")\n",
    "print(\"========================================\")"
   ]
  },
  {
   "cell_type": "code",
   "execution_count": null,
   "id": "52228bf2",
   "metadata": {},
   "outputs": [],
   "source": [
    "cross_val_accuracies = []\n",
    "cross_val_accuracies_std = []\n",
    "for k_neighbor in range(1, 10, 1):\n",
    "    knn = KNeighborsClassifier(n_neighbors=k_neighbor)\n",
    "    print(\"======== Score on fold\")\n",
    "    cross_val_accuracy = np.mean(cross_val_score(estimator=knn, X=X, y=y, scoring=\"precision\", cv=5))\n",
    "    cross_val_accuracy_std = np.std(cross_val_score(estimator=knn, X=X, y=y, scoring=\"precision\", cv=5))\n",
    "    print(f\"Average error on fold: {cross_val_accuracy_std}\")\n",
    "    print(f\"Standard error on fold: {cross_val_accuracy_std}\")\n",
    "    cross_val_accuracies.append(cross_val_accuracy)\n",
    "    cross_val_accuracies_std.append(cross_val_accuracy_std)"
   ]
  },
  {
   "cell_type": "code",
   "execution_count": null,
   "id": "7c7ab0e9",
   "metadata": {},
   "outputs": [],
   "source": [
    "plt.plot(cross_val_accuracies)"
   ]
  },
  {
   "cell_type": "markdown",
   "id": "c50cc948",
   "metadata": {},
   "source": [
    "# Naive Bayes"
   ]
  },
  {
   "cell_type": "markdown",
   "id": "a54cd3d6",
   "metadata": {},
   "source": [
    "# Forêts Aléatoires"
   ]
  },
  {
   "cell_type": "code",
   "execution_count": null,
   "id": "78fc6b60",
   "metadata": {},
   "outputs": [],
   "source": [
    "from sklearn.ensemble import RandomForestClassifier\n",
    "from sklearn.tree import export_graphviz\n",
    "from sklearn import tree"
   ]
  },
  {
   "cell_type": "markdown",
   "id": "36ed8567",
   "metadata": {},
   "source": [
    "### Hyperparameters"
   ]
  },
  {
   "cell_type": "code",
   "execution_count": null,
   "id": "1d8fef27",
   "metadata": {},
   "outputs": [],
   "source": [
    "#n_estimators -> plus la valeur est elevee plus robuste, moins de surapprentissage\n",
    "n_estimators = 80"
   ]
  },
  {
   "cell_type": "code",
   "execution_count": null,
   "id": "d6364ffd",
   "metadata": {},
   "outputs": [],
   "source": [
    "forest = RandomForestClassifier(n_estimators, random_state=0)"
   ]
  },
  {
   "cell_type": "code",
   "execution_count": null,
   "id": "b05165ea",
   "metadata": {
    "scrolled": false
   },
   "outputs": [],
   "source": [
    "forest.fit(X_train, y_train)"
   ]
  },
  {
   "cell_type": "code",
   "execution_count": null,
   "id": "cbf7eb91",
   "metadata": {
    "scrolled": false
   },
   "outputs": [],
   "source": [
    "forest.predict(X_test)"
   ]
  },
  {
   "cell_type": "code",
   "execution_count": null,
   "id": "a5c5d32f",
   "metadata": {
    "scrolled": false
   },
   "outputs": [],
   "source": [
    "forest.feature_importances_"
   ]
  },
  {
   "cell_type": "code",
   "execution_count": null,
   "id": "a93994f4",
   "metadata": {
    "scrolled": true
   },
   "outputs": [],
   "source": [
    "print(\"Accuracy on training set: {:.3f}\".format(forest.score(X_train, y_train)))"
   ]
  },
  {
   "cell_type": "code",
   "execution_count": null,
   "id": "7d992018",
   "metadata": {
    "scrolled": true
   },
   "outputs": [],
   "source": [
    "print(\"Accuracy on test set: {:.3f}\".format(forest.score(X_test, y_test)))"
   ]
  },
  {
   "cell_type": "code",
   "execution_count": null,
   "id": "6688954d",
   "metadata": {},
   "outputs": [],
   "source": []
  },
  {
   "cell_type": "code",
   "execution_count": null,
   "id": "a30e4000",
   "metadata": {
    "scrolled": true
   },
   "outputs": [],
   "source": [
    "plt.plot(neighbors, accuracy_scores_euc)\n",
    "plt.title(\"Evolution of the accuracy score as a function of the number of neighbors (dist = euclidean)\")\n",
    "plt.show()\n",
    "\n",
    "plt.plot(neighbors, precision_scores_euc)\n",
    "plt.title(\"Evolution of the precision score as a function of the number of neighbors (dist = euclidean)\")\n",
    "\n",
    "plt.show()\n",
    "\n",
    "plt.plot(neighbors, recall_scores_euc)\n",
    "plt.title(\"Evolution of the recall score as a function of the number of neighbors (dist = euclidean)\")\n",
    "\n",
    "plt.show()"
   ]
  },
  {
   "cell_type": "code",
   "execution_count": null,
   "id": "eb8d0281",
   "metadata": {},
   "outputs": [],
   "source": [
    "X_train, X_test, y_train, y_test = train_test_split(X, y, test_size=0.3, stratify=y)"
   ]
  },
  {
   "cell_type": "code",
   "execution_count": null,
   "id": "ba837501",
   "metadata": {
    "scrolled": true
   },
   "outputs": [],
   "source": [
    "X_train, X_test, y_train, y_test = train_test_split(X, y, test_size=0.3, stratify=y)\n",
    "\n",
    "split_accuracy = []\n",
    "split_precision = []\n",
    "for i in range(1, 10, 1):\n",
    "    knn = KNeighborsClassifier(n_neighbors=i, p=2)\n",
    "    knn.fit(X_train, y_train)\n",
    "    print(f\"k={i}\")\n",
    "    prediction = knn.predict(X_test)\n",
    "    print(f\"Accuracy: {accuracy_score(y_test, prediction)}\")\n",
    "    split_accuracy.append(accuracy_score(y_test, prediction))\n",
    "    split_precision.append(precision_score(y_test, prediction))"
   ]
  },
  {
   "cell_type": "code",
   "execution_count": null,
   "id": "3e17e2bc",
   "metadata": {},
   "outputs": [],
   "source": [
    "plt.plot(split_accuracy, label=\"Accuracy\")\n",
    "plt.plot(split_precision, label=\"Precision\")\n",
    "plt.legend()"
   ]
  },
  {
   "cell_type": "code",
   "execution_count": null,
   "id": "bf1edb12",
   "metadata": {},
   "outputs": [],
   "source": []
  }
 ],
 "metadata": {
  "kernelspec": {
   "display_name": "rlnavenv",
   "language": "python",
   "name": "rlnavenv"
  },
  "language_info": {
   "codemirror_mode": {
    "name": "ipython",
    "version": 3
   },
   "file_extension": ".py",
   "mimetype": "text/x-python",
   "name": "python",
   "nbconvert_exporter": "python",
   "pygments_lexer": "ipython3",
   "version": "3.8.18"
  }
 },
 "nbformat": 4,
 "nbformat_minor": 5
}
