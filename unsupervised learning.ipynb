{
 "cells": [
  {
   "cell_type": "markdown",
   "id": "a7793abc",
   "metadata": {},
   "source": [
    "# Dependencies"
   ]
  },
  {
   "cell_type": "code",
   "execution_count": null,
   "id": "098dd2df",
   "metadata": {},
   "outputs": [],
   "source": [
    "!pip install numpy==1.22.4\n",
    "!pip install matplotlib==3.7.1\n",
    "!pip install mglearn==0.2.0\n",
    "!pip install pandas==2.0.3\n",
    "!pip install scikit-learn==1.3.2\n",
    "!pip install seaborn==0.13.1"
   ]
  },
  {
   "cell_type": "code",
   "execution_count": null,
   "id": "21423662",
   "metadata": {},
   "outputs": [],
   "source": [
    "!pip freeze"
   ]
  },
  {
   "cell_type": "markdown",
   "id": "2564d186",
   "metadata": {},
   "source": [
    "# Dataset"
   ]
  },
  {
   "cell_type": "code",
   "execution_count": 1,
   "id": "e9287d2e",
   "metadata": {},
   "outputs": [],
   "source": [
    "import pandas as pd\n",
    "import numpy as np\n",
    "import matplotlib.pyplot as plt\n",
    "import pandas as pd\n",
    "import mglearn\n",
    "from IPython.display import display\n",
    "import seaborn as sns\n",
    "from sklearn import datasets\n",
    "from sklearn.cluster import KMeans"
   ]
  },
  {
   "cell_type": "code",
   "execution_count": 2,
   "id": "abf9a49b",
   "metadata": {},
   "outputs": [],
   "source": [
    "df=pd.read_csv(\"airline_satisfaction.csv\")"
   ]
  },
  {
   "cell_type": "code",
   "execution_count": 3,
   "id": "666542a3",
   "metadata": {},
   "outputs": [],
   "source": [
    "y = df.satisfaction.values\n",
    "\n",
    "categorical_variables = [\"Gender\",\"Customer Type\",\"Type of Travel\",\"Class\"]\n",
    "\n",
    "quantitative_variables = ['Age','Flight Distance', 'Departure Delay in Minutes','Arrival Delay in Minutes']\n",
    "\n",
    "ordinal_variables = [\"Inflight wifi service\", \"Departure/Arrival time convenient\",\"Ease of Online booking\", \n",
    "                     \"Gate location\",\"Food and drink\",\"Online boarding\",\"Seat comfort\",\"Inflight entertainment\",\n",
    "                     \"On-board service\",\"Leg room service\",\"Baggage handling\",\"Checkin service\",\"Inflight service\",\n",
    "                     \"Cleanliness\"]\n",
    "\n",
    "X = df[categorical_variables + quantitative_variables + ordinal_variables].values\n",
    "X_quantitative = df[quantitative_variables].values\n",
    "X_categorical = df[categorical_variables].values\n",
    "X_ordinal = df[ordinal_variables].values"
   ]
  },
  {
   "cell_type": "code",
   "execution_count": 4,
   "id": "403a12a0",
   "metadata": {},
   "outputs": [
    {
     "data": {
      "text/html": [
       "<div>\n",
       "<style scoped>\n",
       "    .dataframe tbody tr th:only-of-type {\n",
       "        vertical-align: middle;\n",
       "    }\n",
       "\n",
       "    .dataframe tbody tr th {\n",
       "        vertical-align: top;\n",
       "    }\n",
       "\n",
       "    .dataframe thead th {\n",
       "        text-align: right;\n",
       "    }\n",
       "</style>\n",
       "<table border=\"1\" class=\"dataframe\">\n",
       "  <thead>\n",
       "    <tr style=\"text-align: right;\">\n",
       "      <th></th>\n",
       "      <th>Unnamed: 0</th>\n",
       "      <th>id</th>\n",
       "      <th>Gender</th>\n",
       "      <th>Customer Type</th>\n",
       "      <th>Age</th>\n",
       "      <th>Type of Travel</th>\n",
       "      <th>Class</th>\n",
       "      <th>Flight Distance</th>\n",
       "      <th>Inflight wifi service</th>\n",
       "      <th>Departure/Arrival time convenient</th>\n",
       "      <th>...</th>\n",
       "      <th>Inflight entertainment</th>\n",
       "      <th>On-board service</th>\n",
       "      <th>Leg room service</th>\n",
       "      <th>Baggage handling</th>\n",
       "      <th>Checkin service</th>\n",
       "      <th>Inflight service</th>\n",
       "      <th>Cleanliness</th>\n",
       "      <th>Departure Delay in Minutes</th>\n",
       "      <th>Arrival Delay in Minutes</th>\n",
       "      <th>satisfaction</th>\n",
       "    </tr>\n",
       "  </thead>\n",
       "  <tbody>\n",
       "    <tr>\n",
       "      <th>0</th>\n",
       "      <td>0</td>\n",
       "      <td>70172</td>\n",
       "      <td>Male</td>\n",
       "      <td>Loyal Customer</td>\n",
       "      <td>13</td>\n",
       "      <td>Personal Travel</td>\n",
       "      <td>Eco Plus</td>\n",
       "      <td>460</td>\n",
       "      <td>3</td>\n",
       "      <td>4</td>\n",
       "      <td>...</td>\n",
       "      <td>5</td>\n",
       "      <td>4</td>\n",
       "      <td>3</td>\n",
       "      <td>4</td>\n",
       "      <td>4</td>\n",
       "      <td>5</td>\n",
       "      <td>5</td>\n",
       "      <td>25</td>\n",
       "      <td>18.0</td>\n",
       "      <td>neutral or dissatisfied</td>\n",
       "    </tr>\n",
       "    <tr>\n",
       "      <th>1</th>\n",
       "      <td>1</td>\n",
       "      <td>5047</td>\n",
       "      <td>Male</td>\n",
       "      <td>disloyal Customer</td>\n",
       "      <td>25</td>\n",
       "      <td>Business travel</td>\n",
       "      <td>Business</td>\n",
       "      <td>235</td>\n",
       "      <td>3</td>\n",
       "      <td>2</td>\n",
       "      <td>...</td>\n",
       "      <td>1</td>\n",
       "      <td>1</td>\n",
       "      <td>5</td>\n",
       "      <td>3</td>\n",
       "      <td>1</td>\n",
       "      <td>4</td>\n",
       "      <td>1</td>\n",
       "      <td>1</td>\n",
       "      <td>6.0</td>\n",
       "      <td>neutral or dissatisfied</td>\n",
       "    </tr>\n",
       "    <tr>\n",
       "      <th>2</th>\n",
       "      <td>2</td>\n",
       "      <td>110028</td>\n",
       "      <td>Female</td>\n",
       "      <td>Loyal Customer</td>\n",
       "      <td>26</td>\n",
       "      <td>Business travel</td>\n",
       "      <td>Business</td>\n",
       "      <td>1142</td>\n",
       "      <td>2</td>\n",
       "      <td>2</td>\n",
       "      <td>...</td>\n",
       "      <td>5</td>\n",
       "      <td>4</td>\n",
       "      <td>3</td>\n",
       "      <td>4</td>\n",
       "      <td>4</td>\n",
       "      <td>4</td>\n",
       "      <td>5</td>\n",
       "      <td>0</td>\n",
       "      <td>0.0</td>\n",
       "      <td>satisfied</td>\n",
       "    </tr>\n",
       "    <tr>\n",
       "      <th>3</th>\n",
       "      <td>3</td>\n",
       "      <td>24026</td>\n",
       "      <td>Female</td>\n",
       "      <td>Loyal Customer</td>\n",
       "      <td>25</td>\n",
       "      <td>Business travel</td>\n",
       "      <td>Business</td>\n",
       "      <td>562</td>\n",
       "      <td>2</td>\n",
       "      <td>5</td>\n",
       "      <td>...</td>\n",
       "      <td>2</td>\n",
       "      <td>2</td>\n",
       "      <td>5</td>\n",
       "      <td>3</td>\n",
       "      <td>1</td>\n",
       "      <td>4</td>\n",
       "      <td>2</td>\n",
       "      <td>11</td>\n",
       "      <td>9.0</td>\n",
       "      <td>neutral or dissatisfied</td>\n",
       "    </tr>\n",
       "    <tr>\n",
       "      <th>4</th>\n",
       "      <td>4</td>\n",
       "      <td>119299</td>\n",
       "      <td>Male</td>\n",
       "      <td>Loyal Customer</td>\n",
       "      <td>61</td>\n",
       "      <td>Business travel</td>\n",
       "      <td>Business</td>\n",
       "      <td>214</td>\n",
       "      <td>3</td>\n",
       "      <td>3</td>\n",
       "      <td>...</td>\n",
       "      <td>3</td>\n",
       "      <td>3</td>\n",
       "      <td>4</td>\n",
       "      <td>4</td>\n",
       "      <td>3</td>\n",
       "      <td>3</td>\n",
       "      <td>3</td>\n",
       "      <td>0</td>\n",
       "      <td>0.0</td>\n",
       "      <td>satisfied</td>\n",
       "    </tr>\n",
       "  </tbody>\n",
       "</table>\n",
       "<p>5 rows × 25 columns</p>\n",
       "</div>"
      ],
      "text/plain": [
       "   Unnamed: 0      id  Gender      Customer Type  Age   Type of Travel  \\\n",
       "0           0   70172    Male     Loyal Customer   13  Personal Travel   \n",
       "1           1    5047    Male  disloyal Customer   25  Business travel   \n",
       "2           2  110028  Female     Loyal Customer   26  Business travel   \n",
       "3           3   24026  Female     Loyal Customer   25  Business travel   \n",
       "4           4  119299    Male     Loyal Customer   61  Business travel   \n",
       "\n",
       "      Class  Flight Distance  Inflight wifi service  \\\n",
       "0  Eco Plus              460                      3   \n",
       "1  Business              235                      3   \n",
       "2  Business             1142                      2   \n",
       "3  Business              562                      2   \n",
       "4  Business              214                      3   \n",
       "\n",
       "   Departure/Arrival time convenient  ...  Inflight entertainment  \\\n",
       "0                                  4  ...                       5   \n",
       "1                                  2  ...                       1   \n",
       "2                                  2  ...                       5   \n",
       "3                                  5  ...                       2   \n",
       "4                                  3  ...                       3   \n",
       "\n",
       "   On-board service  Leg room service  Baggage handling  Checkin service  \\\n",
       "0                 4                 3                 4                4   \n",
       "1                 1                 5                 3                1   \n",
       "2                 4                 3                 4                4   \n",
       "3                 2                 5                 3                1   \n",
       "4                 3                 4                 4                3   \n",
       "\n",
       "   Inflight service  Cleanliness  Departure Delay in Minutes  \\\n",
       "0                 5            5                          25   \n",
       "1                 4            1                           1   \n",
       "2                 4            5                           0   \n",
       "3                 4            2                          11   \n",
       "4                 3            3                           0   \n",
       "\n",
       "   Arrival Delay in Minutes             satisfaction  \n",
       "0                      18.0  neutral or dissatisfied  \n",
       "1                       6.0  neutral or dissatisfied  \n",
       "2                       0.0                satisfied  \n",
       "3                       9.0  neutral or dissatisfied  \n",
       "4                       0.0                satisfied  \n",
       "\n",
       "[5 rows x 25 columns]"
      ]
     },
     "execution_count": 4,
     "metadata": {},
     "output_type": "execute_result"
    }
   ],
   "source": [
    "df.head()"
   ]
  },
  {
   "cell_type": "markdown",
   "id": "b3716421",
   "metadata": {},
   "source": [
    "# Data Preprocessing"
   ]
  },
  {
   "cell_type": "markdown",
   "id": "6d03cdf7",
   "metadata": {},
   "source": [
    "## Encoding Variables"
   ]
  },
  {
   "cell_type": "markdown",
   "id": "71cb04b5",
   "metadata": {},
   "source": [
    "### One-Hot Encoding\n",
    "for quantitative variables"
   ]
  },
  {
   "cell_type": "code",
   "execution_count": 5,
   "id": "37378cdf",
   "metadata": {},
   "outputs": [],
   "source": [
    "from sklearn.preprocessing import OneHotEncoder"
   ]
  },
  {
   "cell_type": "code",
   "execution_count": 6,
   "id": "858d5b97",
   "metadata": {},
   "outputs": [],
   "source": [
    "one_hot_encoder = OneHotEncoder()"
   ]
  },
  {
   "cell_type": "code",
   "execution_count": 7,
   "id": "8398e3b4",
   "metadata": {},
   "outputs": [],
   "source": [
    "one_hot_encoder.fit(X_categorical)\n",
    "one_hot_encoded_X = one_hot_encoder.transform(X_categorical)"
   ]
  },
  {
   "cell_type": "code",
   "execution_count": 8,
   "id": "06a83e7f",
   "metadata": {
    "scrolled": true
   },
   "outputs": [
    {
     "data": {
      "text/plain": [
       "array([[0., 1., 1., ..., 0., 0., 1.],\n",
       "       [0., 1., 0., ..., 1., 0., 0.],\n",
       "       [1., 0., 1., ..., 1., 0., 0.],\n",
       "       ...,\n",
       "       [1., 0., 1., ..., 0., 1., 0.],\n",
       "       [0., 1., 1., ..., 1., 0., 0.],\n",
       "       [1., 0., 1., ..., 0., 1., 0.]])"
      ]
     },
     "execution_count": 8,
     "metadata": {},
     "output_type": "execute_result"
    }
   ],
   "source": [
    "one_hot_encoded_X.toarray()"
   ]
  },
  {
   "cell_type": "code",
   "execution_count": 9,
   "id": "0ff1ac6c",
   "metadata": {
    "scrolled": true
   },
   "outputs": [
    {
     "data": {
      "text/plain": [
       "array(['x0_Female', 'x0_Male', 'x1_Loyal Customer',\n",
       "       'x1_disloyal Customer', 'x2_Business travel', 'x2_Personal Travel',\n",
       "       'x3_Business', 'x3_Eco', 'x3_Eco Plus'], dtype=object)"
      ]
     },
     "execution_count": 9,
     "metadata": {},
     "output_type": "execute_result"
    }
   ],
   "source": [
    "one_hot_encoder.get_feature_names_out()"
   ]
  },
  {
   "cell_type": "code",
   "execution_count": 10,
   "id": "0d38b5fb",
   "metadata": {
    "scrolled": true
   },
   "outputs": [
    {
     "data": {
      "text/plain": [
       "<129880x9 sparse matrix of type '<class 'numpy.float64'>'\n",
       "\twith 519520 stored elements in Compressed Sparse Row format>"
      ]
     },
     "execution_count": 10,
     "metadata": {},
     "output_type": "execute_result"
    }
   ],
   "source": [
    "one_hot_encoded_X"
   ]
  },
  {
   "cell_type": "code",
   "execution_count": 11,
   "id": "0b0bd17e",
   "metadata": {},
   "outputs": [],
   "source": [
    "df_quantitative=df[quantitative_variables]"
   ]
  },
  {
   "cell_type": "code",
   "execution_count": 12,
   "id": "f120bbca",
   "metadata": {
    "scrolled": true
   },
   "outputs": [
    {
     "name": "stdout",
     "output_type": "stream",
     "text": [
      "Number of new columns generated after one-hot encoding: 6\n"
     ]
    }
   ],
   "source": [
    "categorical_cols = df.select_dtypes(include=['object']).columns\n",
    "df_encoded = pd.get_dummies(df, columns=categorical_cols)\n",
    "\n",
    "print(\"Number of new columns generated after one-hot encoding:\", df_encoded.shape[1] - df.shape[1])"
   ]
  },
  {
   "cell_type": "code",
   "execution_count": 13,
   "id": "18478d05",
   "metadata": {},
   "outputs": [],
   "source": [
    "X_encoded = pd.concat([df_quantitative, df_encoded], axis=1)"
   ]
  },
  {
   "cell_type": "markdown",
   "id": "8b7a605e",
   "metadata": {},
   "source": [
    "### Ordinal Encoding"
   ]
  },
  {
   "cell_type": "code",
   "execution_count": 14,
   "id": "640abed1",
   "metadata": {},
   "outputs": [],
   "source": [
    "from sklearn.preprocessing import LabelEncoder"
   ]
  },
  {
   "cell_type": "code",
   "execution_count": 15,
   "id": "8b84a70a",
   "metadata": {},
   "outputs": [],
   "source": [
    "label_encoder = LabelEncoder()"
   ]
  },
  {
   "cell_type": "code",
   "execution_count": 16,
   "id": "8dc6586d",
   "metadata": {},
   "outputs": [
    {
     "name": "stdout",
     "output_type": "stream",
     "text": [
      "===== Encoded classes [3 3 2 ... 2 3 2]: [0 1 2 3 4 5]\n",
      "===== Encoded classes [4 2 2 ... 5 3 5]: [0 1 2 3 4 5]\n",
      "===== Encoded classes [3 3 2 ... 1 3 2]: [0 1 2 3 4 5]\n",
      "===== Encoded classes [1 3 2 ... 5 3 5]: [0 1 2 3 4 5]\n",
      "===== Encoded classes [5 1 5 ... 2 4 4]: [0 1 2 3 4 5]\n",
      "===== Encoded classes [3 3 5 ... 1 4 2]: [0 1 2 3 4 5]\n",
      "===== Encoded classes [5 1 5 ... 2 4 2]: [0 1 2 3 4 5]\n",
      "===== Encoded classes [5 1 5 ... 2 4 1]: [0 1 2 3 4 5]\n",
      "===== Encoded classes [4 1 4 ... 4 3 1]: [0 1 2 3 4 5]\n",
      "===== Encoded classes [3 5 3 ... 3 2 2]: [0 1 2 3 4 5]\n",
      "===== Encoded classes [4 3 4 ... 4 5 1]: [1 2 3 4 5]\n",
      "===== Encoded classes [4 1 4 ... 5 4 1]: [0 1 2 3 4 5]\n",
      "===== Encoded classes [5 4 4 ... 4 5 1]: [0 1 2 3 4 5]\n",
      "===== Encoded classes [5 1 5 ... 2 4 1]: [0 1 2 3 4 5]\n"
     ]
    }
   ],
   "source": [
    "encoded_vars = []\n",
    "for ordinal_var in X_ordinal.T:\n",
    "    encoded_vars.append(label_encoder.fit_transform(ordinal_var))\n",
    "    print(f\"===== Encoded classes {ordinal_var}: {label_encoder.classes_}\")"
   ]
  },
  {
   "cell_type": "code",
   "execution_count": 17,
   "id": "3a220d7f",
   "metadata": {},
   "outputs": [],
   "source": [
    "X_ordinal = np.array(encoded_vars).T"
   ]
  },
  {
   "cell_type": "code",
   "execution_count": 18,
   "id": "9a7e29da",
   "metadata": {
    "scrolled": true
   },
   "outputs": [
    {
     "data": {
      "text/plain": [
       "array([[3, 4, 3, ..., 4, 5, 5],\n",
       "       [3, 2, 3, ..., 1, 4, 1],\n",
       "       [2, 2, 2, ..., 4, 4, 5],\n",
       "       ...,\n",
       "       [2, 5, 1, ..., 5, 4, 2],\n",
       "       [3, 3, 3, ..., 4, 5, 4],\n",
       "       [2, 5, 2, ..., 1, 1, 1]])"
      ]
     },
     "execution_count": 18,
     "metadata": {},
     "output_type": "execute_result"
    }
   ],
   "source": [
    "X_ordinal"
   ]
  },
  {
   "cell_type": "code",
   "execution_count": 19,
   "id": "811f5d04",
   "metadata": {},
   "outputs": [],
   "source": [
    "ordinal_cols = df.select_dtypes(include=['object']).columns\n",
    "label_encoders = {}\n",
    "\n",
    "for col in ordinal_cols:\n",
    "    label_encoders[col] = LabelEncoder()\n",
    "    df[col] = label_encoders[col].fit_transform(df[col])"
   ]
  },
  {
   "cell_type": "code",
   "execution_count": 20,
   "id": "041430f9",
   "metadata": {
    "scrolled": true
   },
   "outputs": [],
   "source": [
    "X_labelled_categories = np.concatenate([df[col].values.reshape(-1, 1) for col in ordinal_cols], axis=1)"
   ]
  },
  {
   "cell_type": "code",
   "execution_count": 21,
   "id": "cc550f24",
   "metadata": {},
   "outputs": [],
   "source": [
    "X_encoded=np.concatenate([X_ordinal, X_labelled_categories],axis=1)"
   ]
  },
  {
   "cell_type": "code",
   "execution_count": 22,
   "id": "ba53f3c5",
   "metadata": {
    "scrolled": true
   },
   "outputs": [
    {
     "name": "stdout",
     "output_type": "stream",
     "text": [
      "[[3 4 3 ... 1 2 0]\n",
      " [3 2 3 ... 0 0 0]\n",
      " [2 2 2 ... 0 0 1]\n",
      " ...\n",
      " [2 5 1 ... 1 1 0]\n",
      " [3 3 3 ... 0 0 1]\n",
      " [2 5 2 ... 1 1 0]]\n"
     ]
    }
   ],
   "source": [
    "print(X_encoded)"
   ]
  },
  {
   "cell_type": "markdown",
   "id": "60b315c5",
   "metadata": {},
   "source": [
    "## Imputing Missing Values"
   ]
  },
  {
   "cell_type": "code",
   "execution_count": 23,
   "id": "873a2b43",
   "metadata": {},
   "outputs": [],
   "source": [
    "from sklearn.impute import SimpleImputer"
   ]
  },
  {
   "cell_type": "code",
   "execution_count": 24,
   "id": "67845167",
   "metadata": {},
   "outputs": [],
   "source": [
    "simple_imputer = SimpleImputer(strategy=\"mean\")\n",
    "simple_imputer.fit(X_quantitative)\n",
    "\n",
    "X_imputed = simple_imputer.transform(X_quantitative)"
   ]
  },
  {
   "cell_type": "code",
   "execution_count": 25,
   "id": "77be841b",
   "metadata": {},
   "outputs": [
    {
     "data": {
      "text/plain": [
       "array([[1.300e+01, 4.600e+02, 2.500e+01, 1.800e+01],\n",
       "       [2.500e+01, 2.350e+02, 1.000e+00, 6.000e+00],\n",
       "       [2.600e+01, 1.142e+03, 0.000e+00, 0.000e+00],\n",
       "       ...,\n",
       "       [1.700e+01, 8.280e+02, 0.000e+00, 0.000e+00],\n",
       "       [1.400e+01, 1.127e+03, 0.000e+00, 0.000e+00],\n",
       "       [4.200e+01, 2.640e+02, 0.000e+00, 0.000e+00]])"
      ]
     },
     "execution_count": 25,
     "metadata": {},
     "output_type": "execute_result"
    }
   ],
   "source": [
    "X_imputed"
   ]
  },
  {
   "cell_type": "code",
   "execution_count": null,
   "id": "b53fe1d1",
   "metadata": {},
   "outputs": [],
   "source": []
  },
  {
   "cell_type": "code",
   "execution_count": null,
   "id": "e98cdae1",
   "metadata": {},
   "outputs": [],
   "source": []
  },
  {
   "cell_type": "markdown",
   "id": "38006302",
   "metadata": {},
   "source": [
    "trash"
   ]
  },
  {
   "cell_type": "code",
   "execution_count": null,
   "id": "f3f3a544",
   "metadata": {},
   "outputs": [],
   "source": [
    "model = KMeans(n_clusters=3)"
   ]
  },
  {
   "cell_type": "code",
   "execution_count": null,
   "id": "f44afdce",
   "metadata": {},
   "outputs": [],
   "source": [
    "model.fit(X_quantitative)"
   ]
  },
  {
   "cell_type": "code",
   "execution_count": null,
   "id": "ec45d935",
   "metadata": {},
   "outputs": [],
   "source": [
    "all_predictions = model.predict(df.data)"
   ]
  },
  {
   "cell_type": "code",
   "execution_count": null,
   "id": "c280d6d1",
   "metadata": {},
   "outputs": [],
   "source": [
    "print(all_predictions)"
   ]
  },
  {
   "cell_type": "code",
   "execution_count": null,
   "id": "356d8318",
   "metadata": {},
   "outputs": [],
   "source": [
    "from sklearn import datasets\n",
    "from sklearn.manifold import TSNE\n",
    "import matplotlib.pyplot as plt"
   ]
  },
  {
   "cell_type": "code",
   "execution_count": null,
   "id": "0cfdadb0",
   "metadata": {},
   "outputs": [],
   "source": [
    "model = TSNE(learning_rate=100)"
   ]
  },
  {
   "cell_type": "code",
   "execution_count": null,
   "id": "dc25e142",
   "metadata": {},
   "outputs": [],
   "source": [
    "transformed = model.fit_transform(df)"
   ]
  },
  {
   "cell_type": "code",
   "execution_count": null,
   "id": "4986eb61",
   "metadata": {},
   "outputs": [],
   "source": [
    "x_axis = transformed[:, 0]\n",
    "y_axis = transformed[:, 1]\n",
    "\n",
    "plt.scatter(x_axis, y_axis, c=iris_df.target)\n",
    "plt.show()"
   ]
  }
 ],
 "metadata": {
  "kernelspec": {
   "display_name": "rlnavenv",
   "language": "python",
   "name": "rlnavenv"
  },
  "language_info": {
   "codemirror_mode": {
    "name": "ipython",
    "version": 3
   },
   "file_extension": ".py",
   "mimetype": "text/x-python",
   "name": "python",
   "nbconvert_exporter": "python",
   "pygments_lexer": "ipython3",
   "version": "3.8.18"
  }
 },
 "nbformat": 4,
 "nbformat_minor": 5
}
