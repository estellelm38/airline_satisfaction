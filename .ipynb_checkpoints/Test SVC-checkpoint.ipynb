{
 "cells": [
  {
   "cell_type": "markdown",
   "id": "f3c2a2d5",
   "metadata": {
    "toc": true
   },
   "source": [
    "<h1>Table of Contents<span class=\"tocSkip\"></span></h1>\n",
    "<div class=\"toc\"><ul class=\"toc-item\"></ul></div>"
   ]
  },
  {
   "cell_type": "code",
   "execution_count": 4,
   "id": "69483823",
   "metadata": {},
   "outputs": [],
   "source": [
    "import math\n",
    "import pandas as pd\n",
    "import numpy as np\n",
    "import matplotlib.pyplot as plt\n",
    "import pandas as pd\n",
    "import mglearn\n",
    "from IPython.display import display\n",
    "import seaborn as sns\n",
    "from sklearn import datasets\n",
    "from sklearn.cluster import KMeans\n",
    "\n",
    "from sklearn.neighbors import KNeighborsClassifier\n",
    "from sklearn.neighbors import KNeighborsRegressor\n",
    "from sklearn.metrics import accuracy_score\n",
    "from sklearn.dummy import DummyClassifier\n",
    "from sklearn.model_selection import train_test_split\n",
    "from sklearn.model_selection import cross_val_score\n",
    "from sklearn.metrics import accuracy_score, precision_score, recall_score\n",
    "from sklearn.preprocessing import KBinsDiscretizer\n",
    "from sklearn.naive_bayes import GaussianNB\n",
    "from sklearn.metrics import classification_report\n",
    "from sklearn.model_selection import KFold\n",
    "from sklearn.naive_bayes import CategoricalNB\n",
    "from sklearn.ensemble import RandomForestClassifier\n",
    "from sklearn.tree import export_graphviz\n",
    "from sklearn import tree\n",
    "from sklearn.svm import SVC"
   ]
  },
  {
   "cell_type": "code",
   "execution_count": 6,
   "id": "1a64b0d5",
   "metadata": {},
   "outputs": [],
   "source": [
    "df=pd.read_csv(\"airline_satisfaction_final.csv\", index_col = 0,\n",
    "              #nrows = 100\n",
    "              )"
   ]
  },
  {
   "cell_type": "code",
   "execution_count": 7,
   "id": "d16bc01a",
   "metadata": {},
   "outputs": [],
   "source": [
    "y = df.satisfaction_satisfied.values\n",
    "\n",
    "X = df[['Age', 'Flight Distance', 'Departure Delay in Minutes', 'Gender_Male',\n",
    "       'Customer Type_Loyal Customer', 'Type of Travel_Business travel',\n",
    "       'Class_Business', 'Class_Eco Plus',\n",
    "       'Inflight wifi service', 'Departure/Arrival time convenient',\n",
    "       'Ease of Online booking', 'Gate location', 'Food and drink',\n",
    "       'Online boarding', 'Seat comfort', 'Inflight entertainment',\n",
    "       'On-board service', 'Leg room service', 'Baggage handling',\n",
    "       'Checkin service', 'Inflight service', 'Cleanliness']]"
   ]
  },
  {
   "cell_type": "code",
   "execution_count": 8,
   "id": "018f1029",
   "metadata": {},
   "outputs": [],
   "source": [
    "X_train, X_test, y_train, y_test = train_test_split(X, y, test_size=0.2, stratify=y)"
   ]
  },
  {
   "cell_type": "code",
   "execution_count": 17,
   "id": "854412b2",
   "metadata": {},
   "outputs": [],
   "source": [
    "svc = SVC()"
   ]
  },
  {
   "cell_type": "code",
   "execution_count": 18,
   "id": "decb67ec",
   "metadata": {},
   "outputs": [
    {
     "name": "stdout",
     "output_type": "stream",
     "text": [
      "Accuracy on training set: 0.953\n",
      "Accuracy on test set: 0.952\n"
     ]
    }
   ],
   "source": [
    "svc.fit(X_train, y_train)\n",
    "svc.predict(X_test)\n",
    "\n",
    "print(\"Accuracy on training set: {:.3f}\".format(svm_model.score(X_train, y_train)))\n",
    "print(\"Accuracy on test set: {:.3f}\".format(svm_model.score(X_test, y_test)))"
   ]
  },
  {
   "cell_type": "code",
   "execution_count": 20,
   "id": "3de107d8",
   "metadata": {},
   "outputs": [
    {
     "name": "stdout",
     "output_type": "stream",
     "text": [
      "K-fold validation score [0.95595935 0.95041577 0.95688328 0.94687404 0.94979982 0.95241762\n",
      " 0.95411149 0.94949184 0.95210964 0.95180166 0.95056976 0.95118571\n",
      " 0.95087773 0.95041577 0.95796119 0.95210964 0.95241762 0.95457345\n",
      " 0.94764398 0.95287958]\n",
      "Average k-fold validation score : 0.9520249461040962\n",
      "Average error on fold: 0.002371857198506534\n",
      "Standard error on fold: 0.002371857198506534\n"
     ]
    }
   ],
   "source": [
    "kfold = KFold(n_splits = 20, shuffle=True)\n",
    "scores = cross_val_score(estimator=svc, X=X, y=y, scoring=\"accuracy\", cv=kfold)\n",
    "#cross_val_accuracy = np.mean((estimator=svc, X=X, y=y, scoring=\"accuracy\", cv=kfold))\n",
    "cross_val_accuracy_std = np.std(cross_val_score(estimator=svc, X=X, y=y, scoring=\"accuracy\", cv=kfold))\n",
    "print(f\"K-fold validation score {scores}\")\n",
    "print(f\"Average k-fold validation score : {scores.mean()}\")\n",
    "print(f\"Average error on fold: {cross_val_accuracy_std}\")\n",
    "print(f\"Standard error on fold: {cross_val_accuracy_std}\")"
   ]
  }
 ],
 "metadata": {
  "kernelspec": {
   "display_name": "rlnavenv",
   "language": "python",
   "name": "rlnavenv"
  },
  "language_info": {
   "codemirror_mode": {
    "name": "ipython",
    "version": 3
   },
   "file_extension": ".py",
   "mimetype": "text/x-python",
   "name": "python",
   "nbconvert_exporter": "python",
   "pygments_lexer": "ipython3",
   "version": "3.8.18"
  },
  "toc": {
   "base_numbering": 1,
   "nav_menu": {},
   "number_sections": true,
   "sideBar": true,
   "skip_h1_title": false,
   "title_cell": "Table of Contents",
   "title_sidebar": "Contents",
   "toc_cell": true,
   "toc_position": {},
   "toc_section_display": true,
   "toc_window_display": false
  }
 },
 "nbformat": 4,
 "nbformat_minor": 5
}
