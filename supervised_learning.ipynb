{
 "cells": [
  {
   "cell_type": "markdown",
   "id": "cd7153c1",
   "metadata": {
    "toc": true
   },
   "source": [
    "<h1>Table of Contents<span class=\"tocSkip\"></span></h1>\n",
    "<div class=\"toc\"><ul class=\"toc-item\"><li><span><a href=\"#Dependencies\" data-toc-modified-id=\"Dependencies-1\"><span class=\"toc-item-num\">1&nbsp;&nbsp;</span>Dependencies</a></span></li><li><span><a href=\"#Train-/-Test-Split\" data-toc-modified-id=\"Train-/-Test-Split-2\"><span class=\"toc-item-num\">2&nbsp;&nbsp;</span>Train / Test Split</a></span></li><li><span><a href=\"#KNN\" data-toc-modified-id=\"KNN-3\"><span class=\"toc-item-num\">3&nbsp;&nbsp;</span>KNN</a></span></li><li><span><a href=\"#Naive-Bayes\" data-toc-modified-id=\"Naive-Bayes-4\"><span class=\"toc-item-num\">4&nbsp;&nbsp;</span>Naive Bayes</a></span><ul class=\"toc-item\"><li><span><a href=\"#quantitative-data\" data-toc-modified-id=\"quantitative-data-4.1\"><span class=\"toc-item-num\">4.1&nbsp;&nbsp;</span>quantitative data</a></span></li><li><span><a href=\"#qualitative-data\" data-toc-modified-id=\"qualitative-data-4.2\"><span class=\"toc-item-num\">4.2&nbsp;&nbsp;</span>qualitative data</a></span></li></ul></li><li><span><a href=\"#Forêts-Aléatoires\" data-toc-modified-id=\"Forêts-Aléatoires-5\"><span class=\"toc-item-num\">5&nbsp;&nbsp;</span>Forêts Aléatoires</a></span><ul class=\"toc-item\"><li><span><a href=\"#gini-criterion\" data-toc-modified-id=\"gini-criterion-5.1\"><span class=\"toc-item-num\">5.1&nbsp;&nbsp;</span>gini criterion</a></span></li></ul></li></ul></div>"
   ]
  },
  {
   "cell_type": "markdown",
   "id": "0cf51ae3",
   "metadata": {},
   "source": [
    "# Dependencies"
   ]
  },
  {
   "cell_type": "code",
   "execution_count": null,
   "id": "fa9a04ba",
   "metadata": {
    "scrolled": true
   },
   "outputs": [],
   "source": [
    "!pip install numpy==1.22.4\n",
    "!pip install matplotlib==3.7.1\n",
    "!pip install mglearn==0.2.0\n",
    "!pip install pandas==2.0.3\n",
    "!pip install scikit-learn==1.3.2\n",
    "!pip install seaborn==0.13.1"
   ]
  },
  {
   "cell_type": "code",
   "execution_count": 1,
   "id": "72ac2e01",
   "metadata": {},
   "outputs": [],
   "source": [
    "import math\n",
    "import pandas as pd\n",
    "import numpy as np\n",
    "import matplotlib.pyplot as plt\n",
    "import pandas as pd\n",
    "import mglearn\n",
    "from IPython.display import display\n",
    "import seaborn as sns\n",
    "from sklearn import datasets\n",
    "from sklearn.cluster import KMeans\n",
    "\n",
    "from sklearn.neighbors import KNeighborsClassifier\n",
    "from sklearn.metrics import accuracy_score\n",
    "from sklearn.dummy import DummyClassifier\n",
    "from sklearn.metrics import recall_score, precision_score\n",
    "from sklearn.model_selection import train_test_split"
   ]
  },
  {
   "cell_type": "code",
   "execution_count": 2,
   "id": "2a83a300",
   "metadata": {},
   "outputs": [],
   "source": [
    "df=pd.read_csv(\"airline_satisfaction_final.csv\", index_col = 0)"
   ]
  },
  {
   "cell_type": "code",
   "execution_count": 3,
   "id": "fc5c9c68",
   "metadata": {
    "scrolled": true
   },
   "outputs": [
    {
     "data": {
      "text/html": [
       "<div>\n",
       "<style scoped>\n",
       "    .dataframe tbody tr th:only-of-type {\n",
       "        vertical-align: middle;\n",
       "    }\n",
       "\n",
       "    .dataframe tbody tr th {\n",
       "        vertical-align: top;\n",
       "    }\n",
       "\n",
       "    .dataframe thead th {\n",
       "        text-align: right;\n",
       "    }\n",
       "</style>\n",
       "<table border=\"1\" class=\"dataframe\">\n",
       "  <thead>\n",
       "    <tr style=\"text-align: right;\">\n",
       "      <th></th>\n",
       "      <th>Age</th>\n",
       "      <th>Flight Distance</th>\n",
       "      <th>Departure Delay in Minutes</th>\n",
       "      <th>Gender_Male</th>\n",
       "      <th>Customer Type_Loyal Customer</th>\n",
       "      <th>Type of Travel_Business travel</th>\n",
       "      <th>Class_Business</th>\n",
       "      <th>Class_Eco Plus</th>\n",
       "      <th>satisfaction_satisfied</th>\n",
       "      <th>Inflight wifi service</th>\n",
       "      <th>...</th>\n",
       "      <th>Food and drink</th>\n",
       "      <th>Online boarding</th>\n",
       "      <th>Seat comfort</th>\n",
       "      <th>Inflight entertainment</th>\n",
       "      <th>On-board service</th>\n",
       "      <th>Leg room service</th>\n",
       "      <th>Baggage handling</th>\n",
       "      <th>Checkin service</th>\n",
       "      <th>Inflight service</th>\n",
       "      <th>Cleanliness</th>\n",
       "    </tr>\n",
       "  </thead>\n",
       "  <tbody>\n",
       "    <tr>\n",
       "      <th>0</th>\n",
       "      <td>0.076923</td>\n",
       "      <td>0.086632</td>\n",
       "      <td>0.015704</td>\n",
       "      <td>1.0</td>\n",
       "      <td>1.0</td>\n",
       "      <td>0.0</td>\n",
       "      <td>0.0</td>\n",
       "      <td>1.0</td>\n",
       "      <td>0.0</td>\n",
       "      <td>0.6</td>\n",
       "      <td>...</td>\n",
       "      <td>1.0</td>\n",
       "      <td>0.6</td>\n",
       "      <td>1.0</td>\n",
       "      <td>1.0</td>\n",
       "      <td>0.8</td>\n",
       "      <td>0.6</td>\n",
       "      <td>0.75</td>\n",
       "      <td>0.8</td>\n",
       "      <td>1.0</td>\n",
       "      <td>1.0</td>\n",
       "    </tr>\n",
       "    <tr>\n",
       "      <th>1</th>\n",
       "      <td>0.230769</td>\n",
       "      <td>0.041195</td>\n",
       "      <td>0.000628</td>\n",
       "      <td>1.0</td>\n",
       "      <td>0.0</td>\n",
       "      <td>1.0</td>\n",
       "      <td>1.0</td>\n",
       "      <td>0.0</td>\n",
       "      <td>0.0</td>\n",
       "      <td>0.6</td>\n",
       "      <td>...</td>\n",
       "      <td>0.2</td>\n",
       "      <td>0.6</td>\n",
       "      <td>0.2</td>\n",
       "      <td>0.2</td>\n",
       "      <td>0.2</td>\n",
       "      <td>1.0</td>\n",
       "      <td>0.50</td>\n",
       "      <td>0.2</td>\n",
       "      <td>0.8</td>\n",
       "      <td>0.2</td>\n",
       "    </tr>\n",
       "    <tr>\n",
       "      <th>2</th>\n",
       "      <td>0.243590</td>\n",
       "      <td>0.224354</td>\n",
       "      <td>0.000000</td>\n",
       "      <td>0.0</td>\n",
       "      <td>1.0</td>\n",
       "      <td>1.0</td>\n",
       "      <td>1.0</td>\n",
       "      <td>0.0</td>\n",
       "      <td>1.0</td>\n",
       "      <td>0.4</td>\n",
       "      <td>...</td>\n",
       "      <td>1.0</td>\n",
       "      <td>1.0</td>\n",
       "      <td>1.0</td>\n",
       "      <td>1.0</td>\n",
       "      <td>0.8</td>\n",
       "      <td>0.6</td>\n",
       "      <td>0.75</td>\n",
       "      <td>0.8</td>\n",
       "      <td>0.8</td>\n",
       "      <td>1.0</td>\n",
       "    </tr>\n",
       "    <tr>\n",
       "      <th>3</th>\n",
       "      <td>0.230769</td>\n",
       "      <td>0.107229</td>\n",
       "      <td>0.006910</td>\n",
       "      <td>0.0</td>\n",
       "      <td>1.0</td>\n",
       "      <td>1.0</td>\n",
       "      <td>1.0</td>\n",
       "      <td>0.0</td>\n",
       "      <td>0.0</td>\n",
       "      <td>0.4</td>\n",
       "      <td>...</td>\n",
       "      <td>0.4</td>\n",
       "      <td>0.4</td>\n",
       "      <td>0.4</td>\n",
       "      <td>0.4</td>\n",
       "      <td>0.4</td>\n",
       "      <td>1.0</td>\n",
       "      <td>0.50</td>\n",
       "      <td>0.2</td>\n",
       "      <td>0.8</td>\n",
       "      <td>0.4</td>\n",
       "    </tr>\n",
       "    <tr>\n",
       "      <th>4</th>\n",
       "      <td>0.692308</td>\n",
       "      <td>0.036955</td>\n",
       "      <td>0.000000</td>\n",
       "      <td>1.0</td>\n",
       "      <td>1.0</td>\n",
       "      <td>1.0</td>\n",
       "      <td>1.0</td>\n",
       "      <td>0.0</td>\n",
       "      <td>1.0</td>\n",
       "      <td>0.6</td>\n",
       "      <td>...</td>\n",
       "      <td>0.8</td>\n",
       "      <td>1.0</td>\n",
       "      <td>1.0</td>\n",
       "      <td>0.6</td>\n",
       "      <td>0.6</td>\n",
       "      <td>0.8</td>\n",
       "      <td>0.75</td>\n",
       "      <td>0.6</td>\n",
       "      <td>0.6</td>\n",
       "      <td>0.6</td>\n",
       "    </tr>\n",
       "  </tbody>\n",
       "</table>\n",
       "<p>5 rows × 23 columns</p>\n",
       "</div>"
      ],
      "text/plain": [
       "        Age  Flight Distance  Departure Delay in Minutes  Gender_Male  \\\n",
       "0  0.076923         0.086632                    0.015704          1.0   \n",
       "1  0.230769         0.041195                    0.000628          1.0   \n",
       "2  0.243590         0.224354                    0.000000          0.0   \n",
       "3  0.230769         0.107229                    0.006910          0.0   \n",
       "4  0.692308         0.036955                    0.000000          1.0   \n",
       "\n",
       "   Customer Type_Loyal Customer  Type of Travel_Business travel  \\\n",
       "0                           1.0                             0.0   \n",
       "1                           0.0                             1.0   \n",
       "2                           1.0                             1.0   \n",
       "3                           1.0                             1.0   \n",
       "4                           1.0                             1.0   \n",
       "\n",
       "   Class_Business  Class_Eco Plus  satisfaction_satisfied  \\\n",
       "0             0.0             1.0                     0.0   \n",
       "1             1.0             0.0                     0.0   \n",
       "2             1.0             0.0                     1.0   \n",
       "3             1.0             0.0                     0.0   \n",
       "4             1.0             0.0                     1.0   \n",
       "\n",
       "   Inflight wifi service  ...  Food and drink  Online boarding  Seat comfort  \\\n",
       "0                    0.6  ...             1.0              0.6           1.0   \n",
       "1                    0.6  ...             0.2              0.6           0.2   \n",
       "2                    0.4  ...             1.0              1.0           1.0   \n",
       "3                    0.4  ...             0.4              0.4           0.4   \n",
       "4                    0.6  ...             0.8              1.0           1.0   \n",
       "\n",
       "   Inflight entertainment  On-board service  Leg room service  \\\n",
       "0                     1.0               0.8               0.6   \n",
       "1                     0.2               0.2               1.0   \n",
       "2                     1.0               0.8               0.6   \n",
       "3                     0.4               0.4               1.0   \n",
       "4                     0.6               0.6               0.8   \n",
       "\n",
       "   Baggage handling  Checkin service  Inflight service  Cleanliness  \n",
       "0              0.75              0.8               1.0          1.0  \n",
       "1              0.50              0.2               0.8          0.2  \n",
       "2              0.75              0.8               0.8          1.0  \n",
       "3              0.50              0.2               0.8          0.4  \n",
       "4              0.75              0.6               0.6          0.6  \n",
       "\n",
       "[5 rows x 23 columns]"
      ]
     },
     "execution_count": 3,
     "metadata": {},
     "output_type": "execute_result"
    }
   ],
   "source": [
    "df.head()"
   ]
  },
  {
   "cell_type": "code",
   "execution_count": 4,
   "id": "f8beb260",
   "metadata": {},
   "outputs": [
    {
     "data": {
      "text/plain": [
       "(129880, 23)"
      ]
     },
     "execution_count": 4,
     "metadata": {},
     "output_type": "execute_result"
    }
   ],
   "source": [
    "df.shape"
   ]
  },
  {
   "cell_type": "code",
   "execution_count": 5,
   "id": "98d258ef",
   "metadata": {},
   "outputs": [
    {
     "data": {
      "text/plain": [
       "Index(['Age', 'Flight Distance', 'Departure Delay in Minutes', 'Gender_Male',\n",
       "       'Customer Type_Loyal Customer', 'Type of Travel_Business travel',\n",
       "       'Class_Business', 'Class_Eco Plus', 'satisfaction_satisfied',\n",
       "       'Inflight wifi service', 'Departure/Arrival time convenient',\n",
       "       'Ease of Online booking', 'Gate location', 'Food and drink',\n",
       "       'Online boarding', 'Seat comfort', 'Inflight entertainment',\n",
       "       'On-board service', 'Leg room service', 'Baggage handling',\n",
       "       'Checkin service', 'Inflight service', 'Cleanliness'],\n",
       "      dtype='object')"
      ]
     },
     "execution_count": 5,
     "metadata": {},
     "output_type": "execute_result"
    }
   ],
   "source": [
    "df.columns"
   ]
  },
  {
   "cell_type": "code",
   "execution_count": 6,
   "id": "3d45c7b9",
   "metadata": {},
   "outputs": [],
   "source": [
    "y = df.satisfaction_satisfied.values\n",
    "\n",
    "X = df[['Age', 'Flight Distance', 'Departure Delay in Minutes', 'Gender_Male',\n",
    "       'Customer Type_Loyal Customer', 'Type of Travel_Business travel',\n",
    "       'Class_Business', 'Class_Eco Plus',\n",
    "       'Inflight wifi service', 'Departure/Arrival time convenient',\n",
    "       'Ease of Online booking', 'Gate location', 'Food and drink',\n",
    "       'Online boarding', 'Seat comfort', 'Inflight entertainment',\n",
    "       'On-board service', 'Leg room service', 'Baggage handling',\n",
    "       'Checkin service', 'Inflight service', 'Cleanliness']]"
   ]
  },
  {
   "cell_type": "markdown",
   "id": "177697df",
   "metadata": {},
   "source": [
    "# Train / Test Split"
   ]
  },
  {
   "cell_type": "code",
   "execution_count": 7,
   "id": "3933ec11",
   "metadata": {},
   "outputs": [],
   "source": [
    "dummy_classifier = DummyClassifier(strategy=\"constant\", constant=0)"
   ]
  },
  {
   "cell_type": "code",
   "execution_count": 8,
   "id": "54969b49",
   "metadata": {},
   "outputs": [],
   "source": [
    "X_train, X_test, y_train, y_test = train_test_split(X, y, test_size=0.3, stratify=y)"
   ]
  },
  {
   "cell_type": "markdown",
   "id": "3edf86a9",
   "metadata": {},
   "source": [
    "# KNN"
   ]
  },
  {
   "cell_type": "markdown",
   "id": "fede13fe",
   "metadata": {},
   "source": [
    "Une approche courante consiste à tester différentes valeurs de k, par exemple de 1 à √n où n est le nombre d'observations dans l'ensemble de données\n",
    "\n",
    "√129880 = 360"
   ]
  },
  {
   "cell_type": "code",
   "execution_count": null,
   "id": "f9273612",
   "metadata": {
    "scrolled": true
   },
   "outputs": [],
   "source": [
    "split_accuracy = []\n",
    "split_precision = []\n",
    "best_accuracy = 0\n",
    "best_k = 0\n",
    "\n",
    "for i in range(1, 20, 1):\n",
    "    \n",
    "    knn = KNeighborsClassifier(n_neighbors=i, p=2)\n",
    "    knn.fit(X_train, y_train)\n",
    "    print(f\"k={i}\")\n",
    "    prediction = knn.predict(X_test)\n",
    "    accuracy = accuracy_score(y_test, prediction)\n",
    "    print(f\"Accuracy: {accuracy_score(y_test, prediction)}\")\n",
    "    split_accuracy.append(accuracy_score(y_test, prediction))\n",
    "    split_precision.append(precision_score(y_test, prediction))\n",
    "    \n",
    "    if accuracy > best_accuracy:\n",
    "        best_accuracy = accuracy\n",
    "        best_k = i\n",
    "\n",
    "print(f\"Meilleur k avec la meilleure accuracy: k={best_k}, accuracy={best_accuracy}\")"
   ]
  },
  {
   "cell_type": "code",
   "execution_count": null,
   "id": "9abb6dfb",
   "metadata": {},
   "outputs": [],
   "source": [
    "plt.plot(split_accuracy, label=\"Accuracy\")\n",
    "plt.plot(split_precision, label=\"Precision\")\n",
    "plt.legend()"
   ]
  },
  {
   "cell_type": "markdown",
   "id": "872a8d1b",
   "metadata": {},
   "source": [
    "Cross Validation"
   ]
  },
  {
   "cell_type": "code",
   "execution_count": null,
   "id": "1711446d",
   "metadata": {},
   "outputs": [],
   "source": [
    "from sklearn.model_selection import cross_val_score"
   ]
  },
  {
   "cell_type": "code",
   "execution_count": null,
   "id": "22f3d57b",
   "metadata": {
    "scrolled": true
   },
   "outputs": [],
   "source": [
    "cross_val_accuracy = cross_val_score(estimator=dummy_classifier, X=X, y=y, scoring=\"accuracy\")\n",
    "cross_val_precision = cross_val_score(estimator=dummy_classifier, X=X, y=y, scoring=\"precision\")"
   ]
  },
  {
   "cell_type": "code",
   "execution_count": null,
   "id": "df04cc80",
   "metadata": {},
   "outputs": [],
   "source": [
    "print(\"========================================\")\n",
    "print(f\"=== Average accuracy: {np.mean(cross_val_accuracy)}\")\n",
    "print(f\"=== Median accuracy: {np.median(cross_val_accuracy)}\")\n",
    "print(\"========================================\")\n",
    "print(\"========================================\")\n",
    "\n",
    "print(f\"=== Average precision: {np.mean(cross_val_precision)}\")\n",
    "print(f\"=== Median precision: {np.median(cross_val_precision)}\")\n",
    "print(\"========================================\")"
   ]
  },
  {
   "cell_type": "code",
   "execution_count": null,
   "id": "52228bf2",
   "metadata": {},
   "outputs": [],
   "source": [
    "cross_val_accuracies = []\n",
    "cross_val_accuracies_std = []\n",
    "for k_neighbor in range(1, 10, 1):\n",
    "    knn = KNeighborsClassifier(n_neighbors=k_neighbor)\n",
    "    print(\"======== Score on fold\")\n",
    "    cross_val_accuracy = np.mean(cross_val_score(estimator=knn, X=X, y=y, scoring=\"precision\", cv=5))\n",
    "    cross_val_accuracy_std = np.std(cross_val_score(estimator=knn, X=X, y=y, scoring=\"precision\", cv=5))\n",
    "    print(f\"Average error on fold: {cross_val_accuracy_std}\")\n",
    "    print(f\"Standard error on fold: {cross_val_accuracy_std}\")\n",
    "    cross_val_accuracies.append(cross_val_accuracy)\n",
    "    cross_val_accuracies_std.append(cross_val_accuracy_std)"
   ]
  },
  {
   "cell_type": "code",
   "execution_count": null,
   "id": "7c7ab0e9",
   "metadata": {},
   "outputs": [],
   "source": [
    "plt.plot(cross_val_accuracies)"
   ]
  },
  {
   "cell_type": "markdown",
   "id": "c50cc948",
   "metadata": {},
   "source": [
    "# Naive Bayes"
   ]
  },
  {
   "cell_type": "code",
   "execution_count": null,
   "id": "9de87e72",
   "metadata": {},
   "outputs": [],
   "source": [
    "y = df.satisfaction_satisfied.values\n",
    "\n",
    "categorical_variables = ['Gender_Male','Customer Type_Loyal Customer','Type of Travel_Business travel',\n",
    "                         'Class_Business', 'Class_Eco Plus','Inflight wifi service', 'Departure/Arrival time convenient',\n",
    "                         'Ease of Online booking', 'Gate location', 'Food and drink','Online boarding', 'Seat comfort', \n",
    "                         'Inflight entertainment','On-board service', 'Leg room service', 'Baggage handling','Checkin service', \n",
    "                         'Inflight service', 'Cleanliness']\n",
    "\n",
    "quantitative_variables = ['Age', 'Flight Distance', 'Departure Delay in Minutes']\n",
    "\n",
    "X = df[categorical_variables + quantitative_variables].values\n",
    "\n",
    "X_quantitative = df[quantitative_variables].fillna(df[quantitative_variables].mean()).values\n",
    "\n",
    "X_categorical = df[categorical_variables].values"
   ]
  },
  {
   "cell_type": "markdown",
   "id": "60e3c840",
   "metadata": {},
   "source": [
    "## quantitative data"
   ]
  },
  {
   "cell_type": "code",
   "execution_count": null,
   "id": "01dd9fe6",
   "metadata": {},
   "outputs": [],
   "source": [
    "from sklearn.naive_bayes import GaussianNB\n",
    "from sklearn.metrics import classification_report"
   ]
  },
  {
   "cell_type": "code",
   "execution_count": null,
   "id": "5c1a565b",
   "metadata": {},
   "outputs": [],
   "source": [
    "gaussian_nb = GaussianNB()\n",
    "\n",
    "print(\"======= Training\")\n",
    "gaussian_nb.fit(X_quantitative, y)\n",
    "\n",
    "print(\"======= Prediction\")\n",
    "predictions = gaussian_nb.predict(X_quantitative)\n",
    "\n",
    "print(\"======= Results\")\n",
    "print(classification_report(y, predictions))"
   ]
  },
  {
   "cell_type": "code",
   "execution_count": null,
   "id": "86ce58eb",
   "metadata": {},
   "outputs": [],
   "source": [
    "predictions = gaussian_nb.predict_proba(X_quantitative)"
   ]
  },
  {
   "cell_type": "code",
   "execution_count": null,
   "id": "17befbc9",
   "metadata": {
    "scrolled": true
   },
   "outputs": [],
   "source": [
    "for ix, var in enumerate(X_quantitative.T):\n",
    "    plt.hist(var)\n",
    "    plt.title(f\"Variable {quantitative_variables[ix]}\")\n",
    "    plt.show()"
   ]
  },
  {
   "cell_type": "code",
   "execution_count": null,
   "id": "effce79f",
   "metadata": {},
   "outputs": [],
   "source": [
    "gaussian_nb = GaussianNB()\n",
    "gaussian_nb.fit(X_quantitative,y)\n",
    "predictions = gaussian_nb.predict(X_quantitative)"
   ]
  },
  {
   "cell_type": "code",
   "execution_count": null,
   "id": "9e0bc8a7",
   "metadata": {
    "scrolled": true
   },
   "outputs": [],
   "source": [
    "predicted_proba = gaussian_nb.predict_proba(X_quantitative)\n",
    "sns.heatmap(predicted_proba)"
   ]
  },
  {
   "cell_type": "code",
   "execution_count": null,
   "id": "edfe40b5",
   "metadata": {},
   "outputs": [],
   "source": [
    "X_quantitative"
   ]
  },
  {
   "cell_type": "code",
   "execution_count": null,
   "id": "331ff902",
   "metadata": {},
   "outputs": [],
   "source": [
    "predicted_proba = gaussian_nb.predict_proba(X_quantitative)\n",
    "plt.scatter(X_quantitative[:,1], X_quantitative[:,2],c=predicted_proba[:,0])"
   ]
  },
  {
   "cell_type": "code",
   "execution_count": null,
   "id": "a30d6ef4",
   "metadata": {},
   "outputs": [],
   "source": [
    "from sklearn.model_selection import cross_val_score\n",
    "from sklearn.metrics import accuracy_score, precision_score, recall_score\n",
    "\n",
    "gaussian_nb = GaussianNB()\n",
    "\n",
    "print(f\"== Working with accuracy\")\n",
    "\n",
    "scores = cross_val_score(estimator=gaussian_nb, X=X_quantitative, y=y)\n",
    "print(f\"Mean accuracy: {np.mean(scores)}\")\n",
    "print(f\"Median accuracy: {np.median(scores)}\")\n",
    "\n",
    "print(f\"== Working with precision\")\n",
    "\n",
    "scores = cross_val_score(estimator=gaussian_nb, X=X_quantitative, y=y, scoring=\"precision\")\n",
    "\n",
    "print(f\"Mean precision: {np.mean(scores)}\")\n",
    "print(f\"Median precision: {np.median(scores)}\")\n",
    "\n",
    "print(f\"== Working with recall\")\n",
    "\n",
    "scores = cross_val_score(estimator=gaussian_nb, X=X_quantitative, y=y, scoring=\"recall\")\n",
    "\n",
    "print(f\"Mean recall: {np.mean(scores)}\")\n",
    "print(f\"Median recall: {np.median(scores)}\")\n"
   ]
  },
  {
   "cell_type": "markdown",
   "id": "f53e5223",
   "metadata": {},
   "source": [
    "## qualitative data"
   ]
  },
  {
   "cell_type": "code",
   "execution_count": null,
   "id": "a066ad82",
   "metadata": {},
   "outputs": [],
   "source": [
    "from sklearn.naive_bayes import CategoricalNB\n",
    "from sklearn.preprocessing import LabelEncoder"
   ]
  },
  {
   "cell_type": "code",
   "execution_count": null,
   "id": "8220fbbd",
   "metadata": {},
   "outputs": [],
   "source": [
    "encoder = LabelEncoder()\n",
    "encoded_vars = []\n",
    "for category in X_categorical.T:\n",
    "    encoded_vars.append(encoder.fit_transform(category))"
   ]
  },
  {
   "cell_type": "code",
   "execution_count": null,
   "id": "322ddc0f",
   "metadata": {},
   "outputs": [],
   "source": [
    "X_cat = np.array(encoded_vars).T"
   ]
  },
  {
   "cell_type": "code",
   "execution_count": null,
   "id": "e2af7554",
   "metadata": {},
   "outputs": [],
   "source": [
    "gaussian_nb = CategoricalNB()\n",
    "gaussian_nb.fit(X_categorical,y)\n",
    "predictions = gaussian_nb.predict(X_categorical)"
   ]
  },
  {
   "cell_type": "code",
   "execution_count": null,
   "id": "04012e94",
   "metadata": {},
   "outputs": [],
   "source": [
    "gaussian_nb_categorical = CategoricalNB()\n",
    "\n",
    "print(\"======= Training\")\n",
    "gaussian_nb_categorical.fit(X_cat, y)\n",
    "\n",
    "print(\"======= Prediction\")\n",
    "predictions = gaussian_nb_categorical.predict(X_cat)\n",
    "\n",
    "print(\"======= Results\")\n",
    "print(classification_report(y, predictions))"
   ]
  },
  {
   "cell_type": "code",
   "execution_count": null,
   "id": "d6aeed47",
   "metadata": {},
   "outputs": [],
   "source": [
    "from sklearn.model_selection import cross_val_score\n",
    "from sklearn.metrics import accuracy_score, precision_score, recall_score\n",
    "\n",
    "print(f\"== Working with accuracy\")\n",
    "\n",
    "scores = cross_val_score(estimator=gaussian_nb, X=X_cat, y=y)\n",
    "print(f\"Mean accuracy: {np.mean(scores)}\")\n",
    "print(f\"Median accuracy: {np.median(scores)}\")\n",
    "\n",
    "print(f\"== Working with precision\")\n",
    "\n",
    "scores = cross_val_score(estimator=gaussian_nb, X=X_cat, y=y, scoring=\"precision\")\n",
    "\n",
    "print(f\"Mean precision: {np.mean(scores)}\")\n",
    "print(f\"Median precision: {np.median(scores)}\")\n",
    "\n",
    "print(f\"== Working with recall\")\n",
    "\n",
    "scores = cross_val_score(estimator=gaussian_nb, X=X_cat, y=y, scoring=\"recall\")\n",
    "\n",
    "print(f\"Mean recall: {np.mean(scores)}\")\n",
    "print(f\"Median recall: {np.median(scores)}\")"
   ]
  },
  {
   "cell_type": "code",
   "execution_count": null,
   "id": "b51ef3ac",
   "metadata": {},
   "outputs": [],
   "source": [
    "from sklearn.preprocessing import KBinsDiscretizer\n",
    "\n",
    "# Transform quantitative variable into qualitative ones\n",
    "\n",
    "kbins_discretizer = KBinsDiscretizer(n_bins=3)\n",
    "discrete_vars = kbins_discretizer.fit_transform(X_quantitative).todense()\n",
    "\n",
    "# Apply categorical NB to all of them\n",
    "X_quanti_discrete = np.hstack([discrete_vars, X_cat])\n",
    "\n",
    "gaussian_nb = CategoricalNB()\n",
    "\n",
    "scores = cross_val_score(estimator=gaussian_nb, X=X_cat, y=y)\n",
    "print(f\"Mean accuracy: {np.mean(scores)}\")\n",
    "print(f\"Median accuracy: {np.median(scores)}\")"
   ]
  },
  {
   "cell_type": "code",
   "execution_count": null,
   "id": "1733f772",
   "metadata": {},
   "outputs": [],
   "source": [
    "gaussian_nb_quanta = GaussianNB()\n",
    "gaussian_nb_quanta.fit(X_quantitative, y)\n",
    "gaussian_nb_categorical = CategoricalNB()\n",
    "gaussian_nb_categorical.fit(X_cat, y)\n",
    "\n",
    "gaussian_full = GaussianNB()\n",
    "proba_matrix = np.concatenate([gaussian_nb_quanta.predict_proba(X_quantitative)[:,0].reshape(-1,1), gaussian_nb_categorical.predict_proba(X_cat)[:,0].reshape(-1, 1)], axis=1)\n",
    "gaussian_full.fit(proba_matrix, y)\n",
    "\n",
    "print(\"===== Accuracy using full dataset\")\n",
    "gaussian_full.score(proba_matrix, y)"
   ]
  },
  {
   "cell_type": "code",
   "execution_count": null,
   "id": "8799b4e9",
   "metadata": {},
   "outputs": [],
   "source": [
    "gaussian_nb_quanta = GaussianNB()\n",
    "gaussian_nb_quanta.fit(X_quantitative, y)\n",
    "\n",
    "quantitative_probabilities = gaussian_nb_quanta.predict_proba(X_quantitative)\n",
    "\n",
    "gaussian_nb_categorical = CategoricalNB()\n",
    "gaussian_nb_categorical.fit(X_cat, y)\n",
    "\n",
    "qualitative_probabilities = gaussian_nb_categorical.predict_proba(X_categorical)\n",
    "\n",
    "combined_probabilities = np.concatenate((quantitative_probabilities, qualitative_probabilities), axis=1)\n",
    "\n",
    "gaussian_nb_combined = GaussianNB()\n",
    "gaussian_nb_combined.fit(combined_probabilities, y)\n",
    "\n",
    "print(\"===== Accuracy using full dataset\")\n",
    "gaussian_nb_combined.score(combined_probabilities, y)"
   ]
  },
  {
   "cell_type": "markdown",
   "id": "a54cd3d6",
   "metadata": {},
   "source": [
    "# Forêts Aléatoires"
   ]
  },
  {
   "cell_type": "code",
   "execution_count": 24,
   "id": "78fc6b60",
   "metadata": {},
   "outputs": [],
   "source": [
    "from sklearn.ensemble import RandomForestClassifier\n",
    "from sklearn.tree import export_graphviz\n",
    "from sklearn import tree"
   ]
  },
  {
   "cell_type": "code",
   "execution_count": 25,
   "id": "1d8fef27",
   "metadata": {},
   "outputs": [],
   "source": [
    "#n_estimators -> plus la valeur est elevee plus robuste, moins de surapprentissage\n",
    "n_estimators = 80"
   ]
  },
  {
   "cell_type": "code",
   "execution_count": 26,
   "id": "d6364ffd",
   "metadata": {},
   "outputs": [],
   "source": [
    "forest = RandomForestClassifier(n_estimators, random_state=0)"
   ]
  },
  {
   "cell_type": "markdown",
   "id": "cb5983f1",
   "metadata": {},
   "source": [
    "## gini criterion"
   ]
  },
  {
   "cell_type": "code",
   "execution_count": 27,
   "id": "b05165ea",
   "metadata": {
    "scrolled": false
   },
   "outputs": [
    {
     "name": "stdout",
     "output_type": "stream",
     "text": [
      "Accuracy on training set: 1.000\n",
      "Accuracy on test set: 0.961\n"
     ]
    }
   ],
   "source": [
    "forest.fit(X_train, y_train)\n",
    "forest.predict(X_test)\n",
    "\n",
    "print(\"Accuracy on training set: {:.3f}\".format(forest.score(X_train, y_train)))\n",
    "print(\"Accuracy on test set: {:.3f}\".format(forest.score(X_test, y_test)))"
   ]
  },
  {
   "cell_type": "code",
   "execution_count": 28,
   "id": "a28b1fce",
   "metadata": {},
   "outputs": [
    {
     "data": {
      "text/plain": [
       "Index(['Age', 'Flight Distance', 'Departure Delay in Minutes', 'Gender_Male',\n",
       "       'Customer Type_Loyal Customer', 'Type of Travel_Business travel',\n",
       "       'Class_Business', 'Class_Eco Plus', 'Inflight wifi service',\n",
       "       'Departure/Arrival time convenient', 'Ease of Online booking',\n",
       "       'Gate location', 'Food and drink', 'Online boarding', 'Seat comfort',\n",
       "       'Inflight entertainment', 'On-board service', 'Leg room service',\n",
       "       'Baggage handling', 'Checkin service', 'Inflight service',\n",
       "       'Cleanliness'],\n",
       "      dtype='object')"
      ]
     },
     "execution_count": 28,
     "metadata": {},
     "output_type": "execute_result"
    }
   ],
   "source": [
    "X.columns"
   ]
  },
  {
   "cell_type": "code",
   "execution_count": 29,
   "id": "43cedc74",
   "metadata": {
    "scrolled": true
   },
   "outputs": [
    {
     "data": {
      "text/plain": [
       "array([0.03414249, 0.03956316, 0.01382394, 0.00509665, 0.03891318,\n",
       "       0.11512375, 0.08304197, 0.00207381, 0.13675944, 0.0155594 ,\n",
       "       0.03873235, 0.01526649, 0.01241952, 0.16347204, 0.05393662,\n",
       "       0.05717238, 0.03102135, 0.04256259, 0.02653625, 0.0250786 ,\n",
       "       0.02271737, 0.02698662])"
      ]
     },
     "execution_count": 29,
     "metadata": {},
     "output_type": "execute_result"
    }
   ],
   "source": [
    "forest.feature_importances_"
   ]
  },
  {
   "cell_type": "code",
   "execution_count": 36,
   "id": "a5dc6d77",
   "metadata": {},
   "outputs": [
    {
     "data": {
      "image/png": "[encoded data removed]",
      "text/plain": [
       "<Figure size 1000x600 with 1 Axes>"
      ]
     },
     "metadata": {},
     "output_type": "display_data"
    }
   ],
   "source": [
    "import matplotlib.pyplot as plt\n",
    "\n",
    "importances = forest.feature_importances_\n",
    "indices = (-importances).argsort()\n",
    "sorted_features = [X.columns[i] for i in indices]\n",
    "sorted_importances = importances[indices]\n",
    "\n",
    "plt.figure(figsize=(10, 6))\n",
    "plt.bar(range(len(sorted_features)), sorted_importances, align='center') \n",
    "plt.xticks(range(len(sorted_features)), sorted_features, rotation='vertical')  # Utilisez les noms des fonctionnalités comme étiquettes sur l'axe x\n",
    "plt.ylabel('Importance')\n",
    "plt.xlabel('Features')\n",
    "plt.title('Importance des features (ordre décroissant)')\n",
    "plt.show()"
   ]
  },
  {
   "cell_type": "code",
   "execution_count": 34,
   "id": "c25e6aa3",
   "metadata": {},
   "outputs": [
    {
     "name": "stdout",
     "output_type": "stream",
     "text": [
      "Accuracy on training set: 1.000\n",
      "Accuracy on test set: 0.962\n"
     ]
    }
   ],
   "source": [
    "forest = RandomForestClassifier(n_estimators, criterion = 'entropy', random_state=0)\n",
    "forest.fit(X_train, y_train)\n",
    "forest.predict(X_test)\n",
    "forest.feature_importances_\n",
    "print(\"Accuracy on training set: {:.3f}\".format(forest.score(X_train, y_train)))\n",
    "print(\"Accuracy on test set: {:.3f}\".format(forest.score(X_test, y_test)))"
   ]
  }
 ],
 "metadata": {
  "kernelspec": {
   "display_name": "rlnavenv",
   "language": "python",
   "name": "rlnavenv"
  },
  "language_info": {
   "codemirror_mode": {
    "name": "ipython",
    "version": 3
   },
   "file_extension": ".py",
   "mimetype": "text/x-python",
   "name": "python",
   "nbconvert_exporter": "python",
   "pygments_lexer": "ipython3",
   "version": "3.8.18"
  },
  "toc": {
   "base_numbering": 1,
   "nav_menu": {},
   "number_sections": true,
   "sideBar": true,
   "skip_h1_title": false,
   "title_cell": "Table of Contents",
   "title_sidebar": "Contents",
   "toc_cell": true,
   "toc_position": {},
   "toc_section_display": true,
   "toc_window_display": false
  }
 },
 "nbformat": 4,
 "nbformat_minor": 5
}
