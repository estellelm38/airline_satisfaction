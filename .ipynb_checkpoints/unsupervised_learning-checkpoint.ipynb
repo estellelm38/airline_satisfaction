{
 "cells": [
  {
   "cell_type": "code",
   "execution_count": 1,
   "id": "c71b321b",
   "metadata": {},
   "outputs": [],
   "source": [
    "import math\n",
    "import pandas as pd\n",
    "import numpy as np\n",
    "import matplotlib.pyplot as plt\n",
    "import pandas as pd\n",
    "import mglearn\n",
    "from IPython.display import display\n",
    "import seaborn as sns\n",
    "from sklearn import datasets\n",
    "from sklearn.cluster import KMeans"
   ]
  },
  {
   "cell_type": "code",
   "execution_count": 59,
   "id": "1d041706",
   "metadata": {
    "scrolled": true
   },
   "outputs": [],
   "source": [
    "df=pd.read_csv(\"airline_satisfaction_final.csv\", index_col = 0,\n",
    "              nrows = 20\n",
    "              )"
   ]
  },
  {
   "cell_type": "code",
   "execution_count": 60,
   "id": "9952134b",
   "metadata": {},
   "outputs": [
    {
     "data": {
      "text/html": [
       "<div>\n",
       "<style scoped>\n",
       "    .dataframe tbody tr th:only-of-type {\n",
       "        vertical-align: middle;\n",
       "    }\n",
       "\n",
       "    .dataframe tbody tr th {\n",
       "        vertical-align: top;\n",
       "    }\n",
       "\n",
       "    .dataframe thead th {\n",
       "        text-align: right;\n",
       "    }\n",
       "</style>\n",
       "<table border=\"1\" class=\"dataframe\">\n",
       "  <thead>\n",
       "    <tr style=\"text-align: right;\">\n",
       "      <th></th>\n",
       "      <th>Age</th>\n",
       "      <th>Flight Distance</th>\n",
       "      <th>Departure Delay in Minutes</th>\n",
       "      <th>Gender_Male</th>\n",
       "      <th>Customer Type_Loyal Customer</th>\n",
       "      <th>Type of Travel_Business travel</th>\n",
       "      <th>Class_Business</th>\n",
       "      <th>Class_Eco Plus</th>\n",
       "      <th>satisfaction_satisfied</th>\n",
       "      <th>Inflight wifi service</th>\n",
       "      <th>...</th>\n",
       "      <th>Food and drink</th>\n",
       "      <th>Online boarding</th>\n",
       "      <th>Seat comfort</th>\n",
       "      <th>Inflight entertainment</th>\n",
       "      <th>On-board service</th>\n",
       "      <th>Leg room service</th>\n",
       "      <th>Baggage handling</th>\n",
       "      <th>Checkin service</th>\n",
       "      <th>Inflight service</th>\n",
       "      <th>Cleanliness</th>\n",
       "    </tr>\n",
       "  </thead>\n",
       "  <tbody>\n",
       "    <tr>\n",
       "      <th>0</th>\n",
       "      <td>0.076923</td>\n",
       "      <td>0.086632</td>\n",
       "      <td>0.015704</td>\n",
       "      <td>1.0</td>\n",
       "      <td>1.0</td>\n",
       "      <td>0.0</td>\n",
       "      <td>0.0</td>\n",
       "      <td>1.0</td>\n",
       "      <td>0.0</td>\n",
       "      <td>0.6</td>\n",
       "      <td>...</td>\n",
       "      <td>1.0</td>\n",
       "      <td>0.6</td>\n",
       "      <td>1.0</td>\n",
       "      <td>1.0</td>\n",
       "      <td>0.8</td>\n",
       "      <td>0.6</td>\n",
       "      <td>0.75</td>\n",
       "      <td>0.8</td>\n",
       "      <td>1.0</td>\n",
       "      <td>1.0</td>\n",
       "    </tr>\n",
       "    <tr>\n",
       "      <th>1</th>\n",
       "      <td>0.230769</td>\n",
       "      <td>0.041195</td>\n",
       "      <td>0.000628</td>\n",
       "      <td>1.0</td>\n",
       "      <td>0.0</td>\n",
       "      <td>1.0</td>\n",
       "      <td>1.0</td>\n",
       "      <td>0.0</td>\n",
       "      <td>0.0</td>\n",
       "      <td>0.6</td>\n",
       "      <td>...</td>\n",
       "      <td>0.2</td>\n",
       "      <td>0.6</td>\n",
       "      <td>0.2</td>\n",
       "      <td>0.2</td>\n",
       "      <td>0.2</td>\n",
       "      <td>1.0</td>\n",
       "      <td>0.50</td>\n",
       "      <td>0.2</td>\n",
       "      <td>0.8</td>\n",
       "      <td>0.2</td>\n",
       "    </tr>\n",
       "    <tr>\n",
       "      <th>2</th>\n",
       "      <td>0.243590</td>\n",
       "      <td>0.224354</td>\n",
       "      <td>0.000000</td>\n",
       "      <td>0.0</td>\n",
       "      <td>1.0</td>\n",
       "      <td>1.0</td>\n",
       "      <td>1.0</td>\n",
       "      <td>0.0</td>\n",
       "      <td>1.0</td>\n",
       "      <td>0.4</td>\n",
       "      <td>...</td>\n",
       "      <td>1.0</td>\n",
       "      <td>1.0</td>\n",
       "      <td>1.0</td>\n",
       "      <td>1.0</td>\n",
       "      <td>0.8</td>\n",
       "      <td>0.6</td>\n",
       "      <td>0.75</td>\n",
       "      <td>0.8</td>\n",
       "      <td>0.8</td>\n",
       "      <td>1.0</td>\n",
       "    </tr>\n",
       "    <tr>\n",
       "      <th>3</th>\n",
       "      <td>0.230769</td>\n",
       "      <td>0.107229</td>\n",
       "      <td>0.006910</td>\n",
       "      <td>0.0</td>\n",
       "      <td>1.0</td>\n",
       "      <td>1.0</td>\n",
       "      <td>1.0</td>\n",
       "      <td>0.0</td>\n",
       "      <td>0.0</td>\n",
       "      <td>0.4</td>\n",
       "      <td>...</td>\n",
       "      <td>0.4</td>\n",
       "      <td>0.4</td>\n",
       "      <td>0.4</td>\n",
       "      <td>0.4</td>\n",
       "      <td>0.4</td>\n",
       "      <td>1.0</td>\n",
       "      <td>0.50</td>\n",
       "      <td>0.2</td>\n",
       "      <td>0.8</td>\n",
       "      <td>0.4</td>\n",
       "    </tr>\n",
       "    <tr>\n",
       "      <th>4</th>\n",
       "      <td>0.692308</td>\n",
       "      <td>0.036955</td>\n",
       "      <td>0.000000</td>\n",
       "      <td>1.0</td>\n",
       "      <td>1.0</td>\n",
       "      <td>1.0</td>\n",
       "      <td>1.0</td>\n",
       "      <td>0.0</td>\n",
       "      <td>1.0</td>\n",
       "      <td>0.6</td>\n",
       "      <td>...</td>\n",
       "      <td>0.8</td>\n",
       "      <td>1.0</td>\n",
       "      <td>1.0</td>\n",
       "      <td>0.6</td>\n",
       "      <td>0.6</td>\n",
       "      <td>0.8</td>\n",
       "      <td>0.75</td>\n",
       "      <td>0.6</td>\n",
       "      <td>0.6</td>\n",
       "      <td>0.6</td>\n",
       "    </tr>\n",
       "  </tbody>\n",
       "</table>\n",
       "<p>5 rows × 23 columns</p>\n",
       "</div>"
      ],
      "text/plain": [
       "        Age  Flight Distance  Departure Delay in Minutes  Gender_Male  \\\n",
       "0  0.076923         0.086632                    0.015704          1.0   \n",
       "1  0.230769         0.041195                    0.000628          1.0   \n",
       "2  0.243590         0.224354                    0.000000          0.0   \n",
       "3  0.230769         0.107229                    0.006910          0.0   \n",
       "4  0.692308         0.036955                    0.000000          1.0   \n",
       "\n",
       "   Customer Type_Loyal Customer  Type of Travel_Business travel  \\\n",
       "0                           1.0                             0.0   \n",
       "1                           0.0                             1.0   \n",
       "2                           1.0                             1.0   \n",
       "3                           1.0                             1.0   \n",
       "4                           1.0                             1.0   \n",
       "\n",
       "   Class_Business  Class_Eco Plus  satisfaction_satisfied  \\\n",
       "0             0.0             1.0                     0.0   \n",
       "1             1.0             0.0                     0.0   \n",
       "2             1.0             0.0                     1.0   \n",
       "3             1.0             0.0                     0.0   \n",
       "4             1.0             0.0                     1.0   \n",
       "\n",
       "   Inflight wifi service  ...  Food and drink  Online boarding  Seat comfort  \\\n",
       "0                    0.6  ...             1.0              0.6           1.0   \n",
       "1                    0.6  ...             0.2              0.6           0.2   \n",
       "2                    0.4  ...             1.0              1.0           1.0   \n",
       "3                    0.4  ...             0.4              0.4           0.4   \n",
       "4                    0.6  ...             0.8              1.0           1.0   \n",
       "\n",
       "   Inflight entertainment  On-board service  Leg room service  \\\n",
       "0                     1.0               0.8               0.6   \n",
       "1                     0.2               0.2               1.0   \n",
       "2                     1.0               0.8               0.6   \n",
       "3                     0.4               0.4               1.0   \n",
       "4                     0.6               0.6               0.8   \n",
       "\n",
       "   Baggage handling  Checkin service  Inflight service  Cleanliness  \n",
       "0              0.75              0.8               1.0          1.0  \n",
       "1              0.50              0.2               0.8          0.2  \n",
       "2              0.75              0.8               0.8          1.0  \n",
       "3              0.50              0.2               0.8          0.4  \n",
       "4              0.75              0.6               0.6          0.6  \n",
       "\n",
       "[5 rows x 23 columns]"
      ]
     },
     "execution_count": 60,
     "metadata": {},
     "output_type": "execute_result"
    }
   ],
   "source": [
    "df.head()"
   ]
  },
  {
   "cell_type": "code",
   "execution_count": 61,
   "id": "f3659c9f",
   "metadata": {},
   "outputs": [
    {
     "data": {
      "text/plain": [
       "(20, 23)"
      ]
     },
     "execution_count": 61,
     "metadata": {},
     "output_type": "execute_result"
    }
   ],
   "source": [
    "df.shape"
   ]
  },
  {
   "cell_type": "code",
   "execution_count": 62,
   "id": "a7d7d4cb",
   "metadata": {
    "scrolled": true
   },
   "outputs": [
    {
     "data": {
      "text/plain": [
       "Index(['Age', 'Flight Distance', 'Departure Delay in Minutes', 'Gender_Male',\n",
       "       'Customer Type_Loyal Customer', 'Type of Travel_Business travel',\n",
       "       'Class_Business', 'Class_Eco Plus', 'satisfaction_satisfied',\n",
       "       'Inflight wifi service', 'Departure/Arrival time convenient',\n",
       "       'Ease of Online booking', 'Gate location', 'Food and drink',\n",
       "       'Online boarding', 'Seat comfort', 'Inflight entertainment',\n",
       "       'On-board service', 'Leg room service', 'Baggage handling',\n",
       "       'Checkin service', 'Inflight service', 'Cleanliness'],\n",
       "      dtype='object')"
      ]
     },
     "execution_count": 62,
     "metadata": {},
     "output_type": "execute_result"
    }
   ],
   "source": [
    "df.columns"
   ]
  },
  {
   "cell_type": "code",
   "execution_count": 63,
   "id": "fa2ada7c",
   "metadata": {},
   "outputs": [],
   "source": [
    "X = df[['Age', 'Flight Distance', 'Departure Delay in Minutes', 'Gender_Male',\n",
    "       'Customer Type_Loyal Customer', 'Type of Travel_Business travel',\n",
    "       'Class_Business', 'Class_Eco Plus',\n",
    "       'Inflight wifi service', 'Departure/Arrival time convenient',\n",
    "       'Ease of Online booking', 'Gate location', 'Food and drink',\n",
    "       'Online boarding', 'Seat comfort', 'Inflight entertainment',\n",
    "       'On-board service', 'Leg room service', 'Baggage handling',\n",
    "       'Checkin service', 'Inflight service', 'Cleanliness','satisfaction_satisfied']]"
   ]
  },
  {
   "cell_type": "markdown",
   "id": "15713b55",
   "metadata": {},
   "source": [
    "## Clustering agglomératif"
   ]
  },
  {
   "cell_type": "code",
   "execution_count": 64,
   "id": "ff2fb5d8",
   "metadata": {},
   "outputs": [],
   "source": [
    "from sklearn.cluster import AgglomerativeClustering\n",
    "from scipy.cluster.hierarchy import dendrogram, linkage\n",
    "import matplotlib.pyplot as plt"
   ]
  },
  {
   "cell_type": "code",
   "execution_count": 65,
   "id": "3e24dc26",
   "metadata": {},
   "outputs": [],
   "source": [
    "clustering = AgglomerativeClustering(n_clusters=3, metric='manhattan', linkage='complete')\n",
    "assignment = clustering.fit_predict(X)"
   ]
  },
  {
   "cell_type": "code",
   "execution_count": 66,
   "id": "d5fe8614",
   "metadata": {},
   "outputs": [
    {
     "data": {
      "text/plain": [
       "array([1, 0, 2, 0, 2, 0, 0, 2, 0, 0, 0, 0, 0, 1, 0, 0, 2, 2, 2, 1])"
      ]
     },
     "execution_count": 66,
     "metadata": {},
     "output_type": "execute_result"
    }
   ],
   "source": [
    "clustering.labels_"
   ]
  },
  {
   "cell_type": "code",
   "execution_count": 67,
   "id": "ee03711b",
   "metadata": {},
   "outputs": [
    {
     "data": {
      "image/png": "[encoded data removed]",
      "text/plain": [
       "<Figure size 1000x500 with 1 Axes>"
      ]
     },
     "metadata": {},
     "output_type": "display_data"
    }
   ],
   "source": [
    "linkage_matrix = linkage(X, method='complete', metric='cityblock')\n",
    "\n",
    "# Tracé du dendrogramme\n",
    "plt.figure(figsize=(10, 5))\n",
    "dendrogram(linkage_matrix)\n",
    "plt.title('Dendrogramme')\n",
    "plt.xlabel('Individus')\n",
    "plt.ylabel('Distance')\n",
    "plt.show()"
   ]
  },
  {
   "cell_type": "code",
   "execution_count": 68,
   "id": "d8712d5f",
   "metadata": {},
   "outputs": [
    {
     "name": "stdout",
     "output_type": "stream",
     "text": [
      "Cluster 1:\n",
      "Feature 6\n",
      "Feature 12\n",
      "\n",
      "Cluster 2:\n",
      "Feature 7\n",
      "Feature 15\n",
      "\n",
      "Cluster 3:\n",
      "Feature 2\n",
      "Feature 4\n",
      "\n",
      "Cluster 4:\n",
      "Feature 13\n",
      "\n",
      "Cluster 5:\n",
      "Feature 9\n",
      "\n",
      "Cluster 6:\n",
      "Feature 10\n",
      "Feature 11\n",
      "\n",
      "Cluster 7:\n",
      "Feature 16\n",
      "\n",
      "Cluster 8:\n",
      "Feature 3\n",
      "Feature 5\n",
      "Feature 8\n",
      "Feature 17\n",
      "Feature 18\n",
      "Feature 19\n",
      "\n",
      "Cluster 9:\n",
      "Feature 1\n",
      "Feature 20\n",
      "\n",
      "Cluster 10:\n",
      "Feature 14\n",
      "\n"
     ]
    }
   ],
   "source": [
    "from scipy.cluster.hierarchy import fcluster\n",
    "\n",
    "# Seuil pour la formation des clusters\n",
    "threshold = 5  # Ajustez ce seuil selon vos besoins\n",
    "\n",
    "# Assignation des clusters en fonction du seuil\n",
    "clusters = fcluster(linkage_matrix, threshold, criterion='distance')\n",
    "\n",
    "# Affichage des répartitions des features pour chaque cluster\n",
    "for cluster_num in range(1, max(clusters) + 1):\n",
    "    print(f'Cluster {cluster_num}:')\n",
    "    for i, cluster_label in enumerate(clusters):\n",
    "        if cluster_label == cluster_num:\n",
    "            print(f'Feature {i + 1}')  # Index des features, commence généralement à 1\n",
    "    print()"
   ]
  },
  {
   "cell_type": "code",
   "execution_count": null,
   "id": "ef6ca283",
   "metadata": {},
   "outputs": [],
   "source": []
  }
 ],
 "metadata": {
  "kernelspec": {
   "display_name": "rlnavenv",
   "language": "python",
   "name": "rlnavenv"
  },
  "language_info": {
   "codemirror_mode": {
    "name": "ipython",
    "version": 3
   },
   "file_extension": ".py",
   "mimetype": "text/x-python",
   "name": "python",
   "nbconvert_exporter": "python",
   "pygments_lexer": "ipython3",
   "version": "3.8.18"
  }
 },
 "nbformat": 4,
 "nbformat_minor": 5
}
